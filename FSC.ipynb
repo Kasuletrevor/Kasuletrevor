{
  "nbformat": 4,
  "nbformat_minor": 0,
  "metadata": {
    "colab": {
      "provenance": [],
      "collapsed_sections": [
        "q4llarXSRFTa",
        "inAFG_zz3GXI",
        "uJNfBbKAHs6r",
        "luG0i_7pH46L",
        "KGgsE57cHcDR"
      ],
      "mount_file_id": "18l4w5gedsqfj0B0SxMfvuHfRRCX5yy5e",
      "authorship_tag": "ABX9TyMsih2D4ACx2OVG5zOVOxI+",
      "include_colab_link": true
    },
    "kernelspec": {
      "name": "python3",
      "display_name": "Python 3"
    },
    "language_info": {
      "name": "python"
    }
  },
  "cells": [
    {
      "cell_type": "markdown",
      "metadata": {
        "id": "view-in-github",
        "colab_type": "text"
      },
      "source": [
        "<a href=\"https://colab.research.google.com/github/Kasuletrevor/Kasuletrevor/blob/main/FSC.ipynb\" target=\"_parent\"><img src=\"https://colab.research.google.com/assets/colab-badge.svg\" alt=\"Open In Colab\"/></a>"
      ]
    },
    {
      "cell_type": "code",
      "execution_count": 6,
      "metadata": {
        "id": "mcHkz66Zi9GO",
        "colab": {
          "base_uri": "https://localhost:8080/"
        },
        "outputId": "4a42e6b6-4fa3-40b4-ede6-3c425214f579"
      },
      "outputs": [
        {
          "output_type": "stream",
          "name": "stdout",
          "text": [
            "Drive already mounted at /content/drive; to attempt to forcibly remount, call drive.mount(\"/content/drive\", force_remount=True).\n"
          ]
        }
      ],
      "source": [
        "from google.colab import drive\n",
        "drive.mount('/content/drive')"
      ]
    },
    {
      "cell_type": "code",
      "source": [
        "import os\n",
        "import numpy as np\n",
        "%matplotlib inline\n",
        "import matplotlib.pyplot as plt\n",
        "import librosa.display\n",
        "import librosa\n",
        "import IPython.display as ipd\n",
        "# from IPython.display import Audio\n",
        "import pandas as pd\n",
        "from sklearn.preprocessing import LabelEncoder"
      ],
      "metadata": {
        "id": "jLa-lrQfNwmc"
      },
      "execution_count": 90,
      "outputs": []
    },
    {
      "cell_type": "code",
      "source": [
        "os.getcwd()"
      ],
      "metadata": {
        "colab": {
          "base_uri": "https://localhost:8080/",
          "height": 35
        },
        "id": "qNifmegtOeo0",
        "outputId": "1a71c72e-1475-4fbf-db45-5d1da2e03ced"
      },
      "execution_count": 39,
      "outputs": [
        {
          "output_type": "execute_result",
          "data": {
            "text/plain": [
              "'/content'"
            ],
            "application/vnd.google.colaboratory.intrinsic+json": {
              "type": "string"
            }
          },
          "metadata": {},
          "execution_count": 39
        }
      ]
    },
    {
      "cell_type": "code",
      "source": [],
      "metadata": {
        "id": "4-3jOtJvOvo9"
      },
      "execution_count": null,
      "outputs": []
    },
    {
      "cell_type": "code",
      "source": [
        "# from google.colab import files\n",
        "\n",
        "# # Open the file and read its contents\n",
        "# with files.open('filename.txt', 'r') as f:\n",
        "#   contents = f.read()"
      ],
      "metadata": {
        "id": "EkUcQ65HPQSj"
      },
      "execution_count": null,
      "outputs": []
    },
    {
      "cell_type": "code",
      "source": [
        "# !pip install IPython"
      ],
      "metadata": {
        "id": "Ws-kqGkPOSyS"
      },
      "execution_count": null,
      "outputs": []
    },
    {
      "cell_type": "markdown",
      "source": [
        "# Kaggle API"
      ],
      "metadata": {
        "id": "q4llarXSRFTa"
      }
    },
    {
      "cell_type": "code",
      "source": [
        "!pip install kaggle"
      ],
      "metadata": {
        "colab": {
          "base_uri": "https://localhost:8080/"
        },
        "id": "B8j6GKUwTT_Z",
        "outputId": "cbec9b6f-897d-4e32-e583-1713af0e0102"
      },
      "execution_count": 4,
      "outputs": [
        {
          "output_type": "stream",
          "name": "stdout",
          "text": [
            "Looking in indexes: https://pypi.org/simple, https://us-python.pkg.dev/colab-wheels/public/simple/\n",
            "Requirement already satisfied: kaggle in /usr/local/lib/python3.8/dist-packages (1.5.12)\n",
            "Requirement already satisfied: requests in /usr/local/lib/python3.8/dist-packages (from kaggle) (2.23.0)\n",
            "Requirement already satisfied: python-dateutil in /usr/local/lib/python3.8/dist-packages (from kaggle) (2.8.2)\n",
            "Requirement already satisfied: six>=1.10 in /usr/local/lib/python3.8/dist-packages (from kaggle) (1.15.0)\n",
            "Requirement already satisfied: urllib3 in /usr/local/lib/python3.8/dist-packages (from kaggle) (1.24.3)\n",
            "Requirement already satisfied: certifi in /usr/local/lib/python3.8/dist-packages (from kaggle) (2022.12.7)\n",
            "Requirement already satisfied: tqdm in /usr/local/lib/python3.8/dist-packages (from kaggle) (4.64.1)\n",
            "Requirement already satisfied: python-slugify in /usr/local/lib/python3.8/dist-packages (from kaggle) (7.0.0)\n",
            "Requirement already satisfied: text-unidecode>=1.3 in /usr/local/lib/python3.8/dist-packages (from python-slugify->kaggle) (1.3)\n",
            "Requirement already satisfied: idna<3,>=2.5 in /usr/local/lib/python3.8/dist-packages (from requests->kaggle) (2.10)\n",
            "Requirement already satisfied: chardet<4,>=3.0.2 in /usr/local/lib/python3.8/dist-packages (from requests->kaggle) (3.0.4)\n"
          ]
        }
      ]
    },
    {
      "cell_type": "code",
      "source": [
        "from google.colab import files\n",
        "files.upload()"
      ],
      "metadata": {
        "colab": {
          "base_uri": "https://localhost:8080/",
          "height": 90
        },
        "id": "ViClE1lgTeWW",
        "outputId": "d5f63ae2-6044-42f4-8eab-07bb192c2a44"
      },
      "execution_count": 5,
      "outputs": [
        {
          "output_type": "display_data",
          "data": {
            "text/plain": [
              "<IPython.core.display.HTML object>"
            ],
            "text/html": [
              "\n",
              "     <input type=\"file\" id=\"files-8e632284-0a50-4577-89fb-6aae2f601a71\" name=\"files[]\" multiple disabled\n",
              "        style=\"border:none\" />\n",
              "     <output id=\"result-8e632284-0a50-4577-89fb-6aae2f601a71\">\n",
              "      Upload widget is only available when the cell has been executed in the\n",
              "      current browser session. Please rerun this cell to enable.\n",
              "      </output>\n",
              "      <script>// Copyright 2017 Google LLC\n",
              "//\n",
              "// Licensed under the Apache License, Version 2.0 (the \"License\");\n",
              "// you may not use this file except in compliance with the License.\n",
              "// You may obtain a copy of the License at\n",
              "//\n",
              "//      http://www.apache.org/licenses/LICENSE-2.0\n",
              "//\n",
              "// Unless required by applicable law or agreed to in writing, software\n",
              "// distributed under the License is distributed on an \"AS IS\" BASIS,\n",
              "// WITHOUT WARRANTIES OR CONDITIONS OF ANY KIND, either express or implied.\n",
              "// See the License for the specific language governing permissions and\n",
              "// limitations under the License.\n",
              "\n",
              "/**\n",
              " * @fileoverview Helpers for google.colab Python module.\n",
              " */\n",
              "(function(scope) {\n",
              "function span(text, styleAttributes = {}) {\n",
              "  const element = document.createElement('span');\n",
              "  element.textContent = text;\n",
              "  for (const key of Object.keys(styleAttributes)) {\n",
              "    element.style[key] = styleAttributes[key];\n",
              "  }\n",
              "  return element;\n",
              "}\n",
              "\n",
              "// Max number of bytes which will be uploaded at a time.\n",
              "const MAX_PAYLOAD_SIZE = 100 * 1024;\n",
              "\n",
              "function _uploadFiles(inputId, outputId) {\n",
              "  const steps = uploadFilesStep(inputId, outputId);\n",
              "  const outputElement = document.getElementById(outputId);\n",
              "  // Cache steps on the outputElement to make it available for the next call\n",
              "  // to uploadFilesContinue from Python.\n",
              "  outputElement.steps = steps;\n",
              "\n",
              "  return _uploadFilesContinue(outputId);\n",
              "}\n",
              "\n",
              "// This is roughly an async generator (not supported in the browser yet),\n",
              "// where there are multiple asynchronous steps and the Python side is going\n",
              "// to poll for completion of each step.\n",
              "// This uses a Promise to block the python side on completion of each step,\n",
              "// then passes the result of the previous step as the input to the next step.\n",
              "function _uploadFilesContinue(outputId) {\n",
              "  const outputElement = document.getElementById(outputId);\n",
              "  const steps = outputElement.steps;\n",
              "\n",
              "  const next = steps.next(outputElement.lastPromiseValue);\n",
              "  return Promise.resolve(next.value.promise).then((value) => {\n",
              "    // Cache the last promise value to make it available to the next\n",
              "    // step of the generator.\n",
              "    outputElement.lastPromiseValue = value;\n",
              "    return next.value.response;\n",
              "  });\n",
              "}\n",
              "\n",
              "/**\n",
              " * Generator function which is called between each async step of the upload\n",
              " * process.\n",
              " * @param {string} inputId Element ID of the input file picker element.\n",
              " * @param {string} outputId Element ID of the output display.\n",
              " * @return {!Iterable<!Object>} Iterable of next steps.\n",
              " */\n",
              "function* uploadFilesStep(inputId, outputId) {\n",
              "  const inputElement = document.getElementById(inputId);\n",
              "  inputElement.disabled = false;\n",
              "\n",
              "  const outputElement = document.getElementById(outputId);\n",
              "  outputElement.innerHTML = '';\n",
              "\n",
              "  const pickedPromise = new Promise((resolve) => {\n",
              "    inputElement.addEventListener('change', (e) => {\n",
              "      resolve(e.target.files);\n",
              "    });\n",
              "  });\n",
              "\n",
              "  const cancel = document.createElement('button');\n",
              "  inputElement.parentElement.appendChild(cancel);\n",
              "  cancel.textContent = 'Cancel upload';\n",
              "  const cancelPromise = new Promise((resolve) => {\n",
              "    cancel.onclick = () => {\n",
              "      resolve(null);\n",
              "    };\n",
              "  });\n",
              "\n",
              "  // Wait for the user to pick the files.\n",
              "  const files = yield {\n",
              "    promise: Promise.race([pickedPromise, cancelPromise]),\n",
              "    response: {\n",
              "      action: 'starting',\n",
              "    }\n",
              "  };\n",
              "\n",
              "  cancel.remove();\n",
              "\n",
              "  // Disable the input element since further picks are not allowed.\n",
              "  inputElement.disabled = true;\n",
              "\n",
              "  if (!files) {\n",
              "    return {\n",
              "      response: {\n",
              "        action: 'complete',\n",
              "      }\n",
              "    };\n",
              "  }\n",
              "\n",
              "  for (const file of files) {\n",
              "    const li = document.createElement('li');\n",
              "    li.append(span(file.name, {fontWeight: 'bold'}));\n",
              "    li.append(span(\n",
              "        `(${file.type || 'n/a'}) - ${file.size} bytes, ` +\n",
              "        `last modified: ${\n",
              "            file.lastModifiedDate ? file.lastModifiedDate.toLocaleDateString() :\n",
              "                                    'n/a'} - `));\n",
              "    const percent = span('0% done');\n",
              "    li.appendChild(percent);\n",
              "\n",
              "    outputElement.appendChild(li);\n",
              "\n",
              "    const fileDataPromise = new Promise((resolve) => {\n",
              "      const reader = new FileReader();\n",
              "      reader.onload = (e) => {\n",
              "        resolve(e.target.result);\n",
              "      };\n",
              "      reader.readAsArrayBuffer(file);\n",
              "    });\n",
              "    // Wait for the data to be ready.\n",
              "    let fileData = yield {\n",
              "      promise: fileDataPromise,\n",
              "      response: {\n",
              "        action: 'continue',\n",
              "      }\n",
              "    };\n",
              "\n",
              "    // Use a chunked sending to avoid message size limits. See b/62115660.\n",
              "    let position = 0;\n",
              "    do {\n",
              "      const length = Math.min(fileData.byteLength - position, MAX_PAYLOAD_SIZE);\n",
              "      const chunk = new Uint8Array(fileData, position, length);\n",
              "      position += length;\n",
              "\n",
              "      const base64 = btoa(String.fromCharCode.apply(null, chunk));\n",
              "      yield {\n",
              "        response: {\n",
              "          action: 'append',\n",
              "          file: file.name,\n",
              "          data: base64,\n",
              "        },\n",
              "      };\n",
              "\n",
              "      let percentDone = fileData.byteLength === 0 ?\n",
              "          100 :\n",
              "          Math.round((position / fileData.byteLength) * 100);\n",
              "      percent.textContent = `${percentDone}% done`;\n",
              "\n",
              "    } while (position < fileData.byteLength);\n",
              "  }\n",
              "\n",
              "  // All done.\n",
              "  yield {\n",
              "    response: {\n",
              "      action: 'complete',\n",
              "    }\n",
              "  };\n",
              "}\n",
              "\n",
              "scope.google = scope.google || {};\n",
              "scope.google.colab = scope.google.colab || {};\n",
              "scope.google.colab._files = {\n",
              "  _uploadFiles,\n",
              "  _uploadFilesContinue,\n",
              "};\n",
              "})(self);\n",
              "</script> "
            ]
          },
          "metadata": {}
        },
        {
          "output_type": "stream",
          "name": "stdout",
          "text": [
            "Saving kaggle.json to kaggle.json\n"
          ]
        },
        {
          "output_type": "execute_result",
          "data": {
            "text/plain": [
              "{'kaggle.json': b'{\"username\":\"kasulejohntrevor\",\"key\":\"2cd289afcd50553c35b2a4aedbc160f3\"}'}"
            ]
          },
          "metadata": {},
          "execution_count": 5
        }
      ]
    },
    {
      "cell_type": "code",
      "source": [
        "#Make a directory named kaggle and copy the kaggle.json file there.\n",
        "!mkdir -p ~/.kaggle\n",
        "!cp kaggle.json ~/.kaggle/\n",
        "# change the permission of the file\n",
        "!chmod 600 ~/.kaggle/kaggle.json"
      ],
      "metadata": {
        "id": "xkMuw7UQTzQj"
      },
      "execution_count": 7,
      "outputs": []
    },
    {
      "cell_type": "code",
      "source": [
        "# !your dataset api command\n",
        "!kaggle datasets download -d tommyngx/fluent-speech-corpus "
      ],
      "metadata": {
        "colab": {
          "base_uri": "https://localhost:8080/"
        },
        "id": "eszdwRCtUCfU",
        "outputId": "49cf3d0f-bfe0-4ecc-9932-514cea243216"
      },
      "execution_count": 8,
      "outputs": [
        {
          "output_type": "stream",
          "name": "stdout",
          "text": [
            "Downloading fluent-speech-corpus.zip to /content\n",
            "100% 1.44G/1.44G [00:13<00:00, 110MB/s]\n",
            "100% 1.44G/1.44G [00:13<00:00, 114MB/s]\n"
          ]
        }
      ]
    },
    {
      "cell_type": "code",
      "source": [
        "from zipfile import ZipFile\n",
        "file_name = 'fluent-speech-corpus.zip' #the file is your dataset exact name\n",
        "with ZipFile(file_name, 'r') as zip:\n",
        "  zip.extractall()\n",
        "  print('Done')"
      ],
      "metadata": {
        "colab": {
          "base_uri": "https://localhost:8080/"
        },
        "id": "kzTt-ruGUZ5k",
        "outputId": "b4bb6f25-1b66-4bc7-c50a-f8b386794bf3"
      },
      "execution_count": 9,
      "outputs": [
        {
          "output_type": "stream",
          "name": "stdout",
          "text": [
            "Done\n"
          ]
        }
      ]
    },
    {
      "cell_type": "markdown",
      "source": [
        "# CHECKING DATASET AND PATHS"
      ],
      "metadata": {
        "id": "dPoA-4wEKwaS"
      }
    },
    {
      "cell_type": "code",
      "source": [
        "os.getcwd()"
      ],
      "metadata": {
        "colab": {
          "base_uri": "https://localhost:8080/",
          "height": 35
        },
        "id": "_cgkk_GpUpWj",
        "outputId": "575355f1-0ee4-42a0-b645-8f0a5dba6863"
      },
      "execution_count": 100,
      "outputs": [
        {
          "output_type": "execute_result",
          "data": {
            "text/plain": [
              "'/content'"
            ],
            "application/vnd.google.colaboratory.intrinsic+json": {
              "type": "string"
            }
          },
          "metadata": {},
          "execution_count": 100
        }
      ]
    },
    {
      "cell_type": "code",
      "source": [
        "ls"
      ],
      "metadata": {
        "colab": {
          "base_uri": "https://localhost:8080/"
        },
        "id": "AAgxenAsU0cI",
        "outputId": "317b98b4-c8f6-40cf-e7e7-15011b1c0fed"
      },
      "execution_count": 101,
      "outputs": [
        {
          "output_type": "stream",
          "name": "stdout",
          "text": [
            "\u001b[0m\u001b[01;34mdrive\u001b[0m/                           fluent-speech-corpus.zip  \u001b[01;34msample_data\u001b[0m/\n",
            "\u001b[01;34mfluent_speech_commands_dataset\u001b[0m/  kaggle.json\n"
          ]
        }
      ]
    },
    {
      "cell_type": "code",
      "source": [
        "ls fluent_speech_commands_dataset"
      ],
      "metadata": {
        "colab": {
          "base_uri": "https://localhost:8080/"
        },
        "id": "WtS0R73_U_Vz",
        "outputId": "8117d1c5-9bd7-4bcf-f28f-9844a362823c"
      },
      "execution_count": 102,
      "outputs": [
        {
          "output_type": "stream",
          "name": "stdout",
          "text": [
            " \u001b[0m\u001b[01;34mdata\u001b[0m/  'Fluent Speech Commands Public License.pdf'   readme.md   \u001b[01;34mwavs\u001b[0m/\n"
          ]
        }
      ]
    },
    {
      "cell_type": "code",
      "source": [
        "ls fluent_speech_commands_dataset/data/"
      ],
      "metadata": {
        "colab": {
          "base_uri": "https://localhost:8080/"
        },
        "id": "Z0wQn1RxVH1N",
        "outputId": "5e5fe84b-3289-47b2-91fc-8390e5c8d80d"
      },
      "execution_count": 103,
      "outputs": [
        {
          "output_type": "stream",
          "name": "stdout",
          "text": [
            "speaker_demographics.csv  test_data.csv  train_data.csv  valid_data.csv\n"
          ]
        }
      ]
    },
    {
      "cell_type": "code",
      "source": [
        "df = pd.read_csv(\"fluent_speech_commands_dataset/data/train_data.csv\")"
      ],
      "metadata": {
        "id": "C9DJz58DViYH"
      },
      "execution_count": 104,
      "outputs": []
    },
    {
      "cell_type": "code",
      "source": [
        "df.head()"
      ],
      "metadata": {
        "colab": {
          "base_uri": "https://localhost:8080/",
          "height": 206
        },
        "id": "5XMQTAQOViyE",
        "outputId": "aaa98360-1387-4153-ef64-af8da14ac8ce"
      },
      "execution_count": 105,
      "outputs": [
        {
          "output_type": "execute_result",
          "data": {
            "text/plain": [
              "   Unnamed: 0                                               path  \\\n",
              "0           0  wavs/speakers/2BqVo8kVB2Skwgyb/0a3129c0-4474-1...   \n",
              "1           1  wavs/speakers/2BqVo8kVB2Skwgyb/0ee42a80-4474-1...   \n",
              "2           2  wavs/speakers/2BqVo8kVB2Skwgyb/144d5be0-4474-1...   \n",
              "3           3  wavs/speakers/2BqVo8kVB2Skwgyb/1811b6e0-4474-1...   \n",
              "4           4  wavs/speakers/2BqVo8kVB2Skwgyb/1d9f3920-4474-1...   \n",
              "\n",
              "          speakerId          transcription           action  object location  \n",
              "0  2BqVo8kVB2Skwgyb        Change language  change language    none     none  \n",
              "1  2BqVo8kVB2Skwgyb                 Resume         activate   music     none  \n",
              "2  2BqVo8kVB2Skwgyb     Turn the lights on         activate  lights     none  \n",
              "3  2BqVo8kVB2Skwgyb   Switch on the lights         activate  lights     none  \n",
              "4  2BqVo8kVB2Skwgyb  Switch off the lights       deactivate  lights     none  "
            ],
            "text/html": [
              "\n",
              "  <div id=\"df-633e3197-8f3c-4e9d-bf99-922b7b23980d\">\n",
              "    <div class=\"colab-df-container\">\n",
              "      <div>\n",
              "<style scoped>\n",
              "    .dataframe tbody tr th:only-of-type {\n",
              "        vertical-align: middle;\n",
              "    }\n",
              "\n",
              "    .dataframe tbody tr th {\n",
              "        vertical-align: top;\n",
              "    }\n",
              "\n",
              "    .dataframe thead th {\n",
              "        text-align: right;\n",
              "    }\n",
              "</style>\n",
              "<table border=\"1\" class=\"dataframe\">\n",
              "  <thead>\n",
              "    <tr style=\"text-align: right;\">\n",
              "      <th></th>\n",
              "      <th>Unnamed: 0</th>\n",
              "      <th>path</th>\n",
              "      <th>speakerId</th>\n",
              "      <th>transcription</th>\n",
              "      <th>action</th>\n",
              "      <th>object</th>\n",
              "      <th>location</th>\n",
              "    </tr>\n",
              "  </thead>\n",
              "  <tbody>\n",
              "    <tr>\n",
              "      <th>0</th>\n",
              "      <td>0</td>\n",
              "      <td>wavs/speakers/2BqVo8kVB2Skwgyb/0a3129c0-4474-1...</td>\n",
              "      <td>2BqVo8kVB2Skwgyb</td>\n",
              "      <td>Change language</td>\n",
              "      <td>change language</td>\n",
              "      <td>none</td>\n",
              "      <td>none</td>\n",
              "    </tr>\n",
              "    <tr>\n",
              "      <th>1</th>\n",
              "      <td>1</td>\n",
              "      <td>wavs/speakers/2BqVo8kVB2Skwgyb/0ee42a80-4474-1...</td>\n",
              "      <td>2BqVo8kVB2Skwgyb</td>\n",
              "      <td>Resume</td>\n",
              "      <td>activate</td>\n",
              "      <td>music</td>\n",
              "      <td>none</td>\n",
              "    </tr>\n",
              "    <tr>\n",
              "      <th>2</th>\n",
              "      <td>2</td>\n",
              "      <td>wavs/speakers/2BqVo8kVB2Skwgyb/144d5be0-4474-1...</td>\n",
              "      <td>2BqVo8kVB2Skwgyb</td>\n",
              "      <td>Turn the lights on</td>\n",
              "      <td>activate</td>\n",
              "      <td>lights</td>\n",
              "      <td>none</td>\n",
              "    </tr>\n",
              "    <tr>\n",
              "      <th>3</th>\n",
              "      <td>3</td>\n",
              "      <td>wavs/speakers/2BqVo8kVB2Skwgyb/1811b6e0-4474-1...</td>\n",
              "      <td>2BqVo8kVB2Skwgyb</td>\n",
              "      <td>Switch on the lights</td>\n",
              "      <td>activate</td>\n",
              "      <td>lights</td>\n",
              "      <td>none</td>\n",
              "    </tr>\n",
              "    <tr>\n",
              "      <th>4</th>\n",
              "      <td>4</td>\n",
              "      <td>wavs/speakers/2BqVo8kVB2Skwgyb/1d9f3920-4474-1...</td>\n",
              "      <td>2BqVo8kVB2Skwgyb</td>\n",
              "      <td>Switch off the lights</td>\n",
              "      <td>deactivate</td>\n",
              "      <td>lights</td>\n",
              "      <td>none</td>\n",
              "    </tr>\n",
              "  </tbody>\n",
              "</table>\n",
              "</div>\n",
              "      <button class=\"colab-df-convert\" onclick=\"convertToInteractive('df-633e3197-8f3c-4e9d-bf99-922b7b23980d')\"\n",
              "              title=\"Convert this dataframe to an interactive table.\"\n",
              "              style=\"display:none;\">\n",
              "        \n",
              "  <svg xmlns=\"http://www.w3.org/2000/svg\" height=\"24px\"viewBox=\"0 0 24 24\"\n",
              "       width=\"24px\">\n",
              "    <path d=\"M0 0h24v24H0V0z\" fill=\"none\"/>\n",
              "    <path d=\"M18.56 5.44l.94 2.06.94-2.06 2.06-.94-2.06-.94-.94-2.06-.94 2.06-2.06.94zm-11 1L8.5 8.5l.94-2.06 2.06-.94-2.06-.94L8.5 2.5l-.94 2.06-2.06.94zm10 10l.94 2.06.94-2.06 2.06-.94-2.06-.94-.94-2.06-.94 2.06-2.06.94z\"/><path d=\"M17.41 7.96l-1.37-1.37c-.4-.4-.92-.59-1.43-.59-.52 0-1.04.2-1.43.59L10.3 9.45l-7.72 7.72c-.78.78-.78 2.05 0 2.83L4 21.41c.39.39.9.59 1.41.59.51 0 1.02-.2 1.41-.59l7.78-7.78 2.81-2.81c.8-.78.8-2.07 0-2.86zM5.41 20L4 18.59l7.72-7.72 1.47 1.35L5.41 20z\"/>\n",
              "  </svg>\n",
              "      </button>\n",
              "      \n",
              "  <style>\n",
              "    .colab-df-container {\n",
              "      display:flex;\n",
              "      flex-wrap:wrap;\n",
              "      gap: 12px;\n",
              "    }\n",
              "\n",
              "    .colab-df-convert {\n",
              "      background-color: #E8F0FE;\n",
              "      border: none;\n",
              "      border-radius: 50%;\n",
              "      cursor: pointer;\n",
              "      display: none;\n",
              "      fill: #1967D2;\n",
              "      height: 32px;\n",
              "      padding: 0 0 0 0;\n",
              "      width: 32px;\n",
              "    }\n",
              "\n",
              "    .colab-df-convert:hover {\n",
              "      background-color: #E2EBFA;\n",
              "      box-shadow: 0px 1px 2px rgba(60, 64, 67, 0.3), 0px 1px 3px 1px rgba(60, 64, 67, 0.15);\n",
              "      fill: #174EA6;\n",
              "    }\n",
              "\n",
              "    [theme=dark] .colab-df-convert {\n",
              "      background-color: #3B4455;\n",
              "      fill: #D2E3FC;\n",
              "    }\n",
              "\n",
              "    [theme=dark] .colab-df-convert:hover {\n",
              "      background-color: #434B5C;\n",
              "      box-shadow: 0px 1px 3px 1px rgba(0, 0, 0, 0.15);\n",
              "      filter: drop-shadow(0px 1px 2px rgba(0, 0, 0, 0.3));\n",
              "      fill: #FFFFFF;\n",
              "    }\n",
              "  </style>\n",
              "\n",
              "      <script>\n",
              "        const buttonEl =\n",
              "          document.querySelector('#df-633e3197-8f3c-4e9d-bf99-922b7b23980d button.colab-df-convert');\n",
              "        buttonEl.style.display =\n",
              "          google.colab.kernel.accessAllowed ? 'block' : 'none';\n",
              "\n",
              "        async function convertToInteractive(key) {\n",
              "          const element = document.querySelector('#df-633e3197-8f3c-4e9d-bf99-922b7b23980d');\n",
              "          const dataTable =\n",
              "            await google.colab.kernel.invokeFunction('convertToInteractive',\n",
              "                                                     [key], {});\n",
              "          if (!dataTable) return;\n",
              "\n",
              "          const docLinkHtml = 'Like what you see? Visit the ' +\n",
              "            '<a target=\"_blank\" href=https://colab.research.google.com/notebooks/data_table.ipynb>data table notebook</a>'\n",
              "            + ' to learn more about interactive tables.';\n",
              "          element.innerHTML = '';\n",
              "          dataTable['output_type'] = 'display_data';\n",
              "          await google.colab.output.renderOutput(dataTable, element);\n",
              "          const docLink = document.createElement('div');\n",
              "          docLink.innerHTML = docLinkHtml;\n",
              "          element.appendChild(docLink);\n",
              "        }\n",
              "      </script>\n",
              "    </div>\n",
              "  </div>\n",
              "  "
            ]
          },
          "metadata": {},
          "execution_count": 105
        }
      ]
    },
    {
      "cell_type": "code",
      "source": [
        "df['transcription'].nunique()"
      ],
      "metadata": {
        "colab": {
          "base_uri": "https://localhost:8080/"
        },
        "id": "GTuX283fVjP_",
        "outputId": "724ec131-1624-4a76-b923-1e5e6402083c"
      },
      "execution_count": 106,
      "outputs": [
        {
          "output_type": "execute_result",
          "data": {
            "text/plain": [
              "248"
            ]
          },
          "metadata": {},
          "execution_count": 106
        }
      ]
    },
    {
      "cell_type": "code",
      "source": [
        "df[\"action\"]"
      ],
      "metadata": {
        "id": "6bP3Ix7mVjXO",
        "colab": {
          "base_uri": "https://localhost:8080/"
        },
        "outputId": "8b0e5931-f7ac-4c59-8966-c0785b3d0102"
      },
      "execution_count": 107,
      "outputs": [
        {
          "output_type": "execute_result",
          "data": {
            "text/plain": [
              "0        change language\n",
              "1               activate\n",
              "2               activate\n",
              "3               activate\n",
              "4             deactivate\n",
              "              ...       \n",
              "23127    change language\n",
              "23128    change language\n",
              "23129    change language\n",
              "23130    change language\n",
              "23131         deactivate\n",
              "Name: action, Length: 23132, dtype: object"
            ]
          },
          "metadata": {},
          "execution_count": 107
        }
      ]
    },
    {
      "cell_type": "code",
      "source": [
        "filename"
      ],
      "metadata": {
        "id": "Sksi5HARVjec",
        "colab": {
          "base_uri": "https://localhost:8080/",
          "height": 35
        },
        "outputId": "3be79e96-a00c-4ecf-9bf4-f70468a81cf9"
      },
      "execution_count": 108,
      "outputs": [
        {
          "output_type": "execute_result",
          "data": {
            "text/plain": [
              "'fluent_speech_commands_dataset/wavs/speakers/ObdQbr9wyDfbmW4E/9df442d0-443f-11e9-beaa-1f3e1eab7bff.wav'"
            ],
            "application/vnd.google.colaboratory.intrinsic+json": {
              "type": "string"
            }
          },
          "metadata": {},
          "execution_count": 108
        }
      ]
    },
    {
      "cell_type": "code",
      "source": [
        "df_actions = df['action'].unique()\n",
        "actions= {}\n",
        "for i, action in enumerate(df_actions):\n",
        "    actions[i] = action\n",
        "\n",
        "print(actions)"
      ],
      "metadata": {
        "colab": {
          "base_uri": "https://localhost:8080/"
        },
        "id": "3jBz2j16XuOh",
        "outputId": "9869fe4b-c3fc-4fe5-ca95-02bec9159a12"
      },
      "execution_count": 109,
      "outputs": [
        {
          "output_type": "stream",
          "name": "stdout",
          "text": [
            "{0: 'change language', 1: 'activate', 2: 'deactivate', 3: 'increase', 4: 'decrease', 5: 'bring'}\n"
          ]
        }
      ]
    },
    {
      "cell_type": "code",
      "source": [
        "df_objects = df['object'].unique()\n",
        "objects= {}\n",
        "for i, object in enumerate(df_objects):\n",
        "    objects[i] = object\n",
        "    \n",
        "print(objects)"
      ],
      "metadata": {
        "colab": {
          "base_uri": "https://localhost:8080/"
        },
        "id": "JWEiSJ9OXuV1",
        "outputId": "1807e162-6093-41b5-924b-7d3435852f26"
      },
      "execution_count": 110,
      "outputs": [
        {
          "output_type": "stream",
          "name": "stdout",
          "text": [
            "{0: 'none', 1: 'music', 2: 'lights', 3: 'volume', 4: 'heat', 5: 'lamp', 6: 'newspaper', 7: 'juice', 8: 'socks', 9: 'Chinese', 10: 'Korean', 11: 'English', 12: 'German', 13: 'shoes'}\n"
          ]
        }
      ]
    },
    {
      "cell_type": "code",
      "source": [
        "train_df = df.copy()"
      ],
      "metadata": {
        "id": "XgUQQ-cpXufE"
      },
      "execution_count": 111,
      "outputs": []
    },
    {
      "cell_type": "code",
      "source": [
        "train_df.head()"
      ],
      "metadata": {
        "colab": {
          "base_uri": "https://localhost:8080/",
          "height": 206
        },
        "id": "6ZD5fUrMXun2",
        "outputId": "5b96f925-494f-4842-8b0c-7b623fb81d35"
      },
      "execution_count": 112,
      "outputs": [
        {
          "output_type": "execute_result",
          "data": {
            "text/plain": [
              "   Unnamed: 0                                               path  \\\n",
              "0           0  wavs/speakers/2BqVo8kVB2Skwgyb/0a3129c0-4474-1...   \n",
              "1           1  wavs/speakers/2BqVo8kVB2Skwgyb/0ee42a80-4474-1...   \n",
              "2           2  wavs/speakers/2BqVo8kVB2Skwgyb/144d5be0-4474-1...   \n",
              "3           3  wavs/speakers/2BqVo8kVB2Skwgyb/1811b6e0-4474-1...   \n",
              "4           4  wavs/speakers/2BqVo8kVB2Skwgyb/1d9f3920-4474-1...   \n",
              "\n",
              "          speakerId          transcription           action  object location  \n",
              "0  2BqVo8kVB2Skwgyb        Change language  change language    none     none  \n",
              "1  2BqVo8kVB2Skwgyb                 Resume         activate   music     none  \n",
              "2  2BqVo8kVB2Skwgyb     Turn the lights on         activate  lights     none  \n",
              "3  2BqVo8kVB2Skwgyb   Switch on the lights         activate  lights     none  \n",
              "4  2BqVo8kVB2Skwgyb  Switch off the lights       deactivate  lights     none  "
            ],
            "text/html": [
              "\n",
              "  <div id=\"df-6965ce7e-1323-4b80-92d9-b2233309ed86\">\n",
              "    <div class=\"colab-df-container\">\n",
              "      <div>\n",
              "<style scoped>\n",
              "    .dataframe tbody tr th:only-of-type {\n",
              "        vertical-align: middle;\n",
              "    }\n",
              "\n",
              "    .dataframe tbody tr th {\n",
              "        vertical-align: top;\n",
              "    }\n",
              "\n",
              "    .dataframe thead th {\n",
              "        text-align: right;\n",
              "    }\n",
              "</style>\n",
              "<table border=\"1\" class=\"dataframe\">\n",
              "  <thead>\n",
              "    <tr style=\"text-align: right;\">\n",
              "      <th></th>\n",
              "      <th>Unnamed: 0</th>\n",
              "      <th>path</th>\n",
              "      <th>speakerId</th>\n",
              "      <th>transcription</th>\n",
              "      <th>action</th>\n",
              "      <th>object</th>\n",
              "      <th>location</th>\n",
              "    </tr>\n",
              "  </thead>\n",
              "  <tbody>\n",
              "    <tr>\n",
              "      <th>0</th>\n",
              "      <td>0</td>\n",
              "      <td>wavs/speakers/2BqVo8kVB2Skwgyb/0a3129c0-4474-1...</td>\n",
              "      <td>2BqVo8kVB2Skwgyb</td>\n",
              "      <td>Change language</td>\n",
              "      <td>change language</td>\n",
              "      <td>none</td>\n",
              "      <td>none</td>\n",
              "    </tr>\n",
              "    <tr>\n",
              "      <th>1</th>\n",
              "      <td>1</td>\n",
              "      <td>wavs/speakers/2BqVo8kVB2Skwgyb/0ee42a80-4474-1...</td>\n",
              "      <td>2BqVo8kVB2Skwgyb</td>\n",
              "      <td>Resume</td>\n",
              "      <td>activate</td>\n",
              "      <td>music</td>\n",
              "      <td>none</td>\n",
              "    </tr>\n",
              "    <tr>\n",
              "      <th>2</th>\n",
              "      <td>2</td>\n",
              "      <td>wavs/speakers/2BqVo8kVB2Skwgyb/144d5be0-4474-1...</td>\n",
              "      <td>2BqVo8kVB2Skwgyb</td>\n",
              "      <td>Turn the lights on</td>\n",
              "      <td>activate</td>\n",
              "      <td>lights</td>\n",
              "      <td>none</td>\n",
              "    </tr>\n",
              "    <tr>\n",
              "      <th>3</th>\n",
              "      <td>3</td>\n",
              "      <td>wavs/speakers/2BqVo8kVB2Skwgyb/1811b6e0-4474-1...</td>\n",
              "      <td>2BqVo8kVB2Skwgyb</td>\n",
              "      <td>Switch on the lights</td>\n",
              "      <td>activate</td>\n",
              "      <td>lights</td>\n",
              "      <td>none</td>\n",
              "    </tr>\n",
              "    <tr>\n",
              "      <th>4</th>\n",
              "      <td>4</td>\n",
              "      <td>wavs/speakers/2BqVo8kVB2Skwgyb/1d9f3920-4474-1...</td>\n",
              "      <td>2BqVo8kVB2Skwgyb</td>\n",
              "      <td>Switch off the lights</td>\n",
              "      <td>deactivate</td>\n",
              "      <td>lights</td>\n",
              "      <td>none</td>\n",
              "    </tr>\n",
              "  </tbody>\n",
              "</table>\n",
              "</div>\n",
              "      <button class=\"colab-df-convert\" onclick=\"convertToInteractive('df-6965ce7e-1323-4b80-92d9-b2233309ed86')\"\n",
              "              title=\"Convert this dataframe to an interactive table.\"\n",
              "              style=\"display:none;\">\n",
              "        \n",
              "  <svg xmlns=\"http://www.w3.org/2000/svg\" height=\"24px\"viewBox=\"0 0 24 24\"\n",
              "       width=\"24px\">\n",
              "    <path d=\"M0 0h24v24H0V0z\" fill=\"none\"/>\n",
              "    <path d=\"M18.56 5.44l.94 2.06.94-2.06 2.06-.94-2.06-.94-.94-2.06-.94 2.06-2.06.94zm-11 1L8.5 8.5l.94-2.06 2.06-.94-2.06-.94L8.5 2.5l-.94 2.06-2.06.94zm10 10l.94 2.06.94-2.06 2.06-.94-2.06-.94-.94-2.06-.94 2.06-2.06.94z\"/><path d=\"M17.41 7.96l-1.37-1.37c-.4-.4-.92-.59-1.43-.59-.52 0-1.04.2-1.43.59L10.3 9.45l-7.72 7.72c-.78.78-.78 2.05 0 2.83L4 21.41c.39.39.9.59 1.41.59.51 0 1.02-.2 1.41-.59l7.78-7.78 2.81-2.81c.8-.78.8-2.07 0-2.86zM5.41 20L4 18.59l7.72-7.72 1.47 1.35L5.41 20z\"/>\n",
              "  </svg>\n",
              "      </button>\n",
              "      \n",
              "  <style>\n",
              "    .colab-df-container {\n",
              "      display:flex;\n",
              "      flex-wrap:wrap;\n",
              "      gap: 12px;\n",
              "    }\n",
              "\n",
              "    .colab-df-convert {\n",
              "      background-color: #E8F0FE;\n",
              "      border: none;\n",
              "      border-radius: 50%;\n",
              "      cursor: pointer;\n",
              "      display: none;\n",
              "      fill: #1967D2;\n",
              "      height: 32px;\n",
              "      padding: 0 0 0 0;\n",
              "      width: 32px;\n",
              "    }\n",
              "\n",
              "    .colab-df-convert:hover {\n",
              "      background-color: #E2EBFA;\n",
              "      box-shadow: 0px 1px 2px rgba(60, 64, 67, 0.3), 0px 1px 3px 1px rgba(60, 64, 67, 0.15);\n",
              "      fill: #174EA6;\n",
              "    }\n",
              "\n",
              "    [theme=dark] .colab-df-convert {\n",
              "      background-color: #3B4455;\n",
              "      fill: #D2E3FC;\n",
              "    }\n",
              "\n",
              "    [theme=dark] .colab-df-convert:hover {\n",
              "      background-color: #434B5C;\n",
              "      box-shadow: 0px 1px 3px 1px rgba(0, 0, 0, 0.15);\n",
              "      filter: drop-shadow(0px 1px 2px rgba(0, 0, 0, 0.3));\n",
              "      fill: #FFFFFF;\n",
              "    }\n",
              "  </style>\n",
              "\n",
              "      <script>\n",
              "        const buttonEl =\n",
              "          document.querySelector('#df-6965ce7e-1323-4b80-92d9-b2233309ed86 button.colab-df-convert');\n",
              "        buttonEl.style.display =\n",
              "          google.colab.kernel.accessAllowed ? 'block' : 'none';\n",
              "\n",
              "        async function convertToInteractive(key) {\n",
              "          const element = document.querySelector('#df-6965ce7e-1323-4b80-92d9-b2233309ed86');\n",
              "          const dataTable =\n",
              "            await google.colab.kernel.invokeFunction('convertToInteractive',\n",
              "                                                     [key], {});\n",
              "          if (!dataTable) return;\n",
              "\n",
              "          const docLinkHtml = 'Like what you see? Visit the ' +\n",
              "            '<a target=\"_blank\" href=https://colab.research.google.com/notebooks/data_table.ipynb>data table notebook</a>'\n",
              "            + ' to learn more about interactive tables.';\n",
              "          element.innerHTML = '';\n",
              "          dataTable['output_type'] = 'display_data';\n",
              "          await google.colab.output.renderOutput(dataTable, element);\n",
              "          const docLink = document.createElement('div');\n",
              "          docLink.innerHTML = docLinkHtml;\n",
              "          element.appendChild(docLink);\n",
              "        }\n",
              "      </script>\n",
              "    </div>\n",
              "  </div>\n",
              "  "
            ]
          },
          "metadata": {},
          "execution_count": 112
        }
      ]
    },
    {
      "cell_type": "code",
      "source": [
        "# uniq = df[['action', 'object']].apply(lambda x: x[0] if x[0] == x[1] else np.NaN, axis=1)\n",
        "\n",
        "# print(uniq)"
      ],
      "metadata": {
        "id": "TS4ILqWOXuwC"
      },
      "execution_count": 113,
      "outputs": []
    },
    {
      "cell_type": "code",
      "source": [
        "# uniq = uniq.dropna()\n",
        "# print(uniq)"
      ],
      "metadata": {
        "id": "pAwgXAGRZCxa"
      },
      "execution_count": 114,
      "outputs": []
    },
    {
      "cell_type": "code",
      "source": [
        "# uniq = list(set(df['action']).intersection(set(df['object'])))\n",
        "# print(uniq)\n"
      ],
      "metadata": {
        "id": "WMl22AoEZRH4"
      },
      "execution_count": 115,
      "outputs": []
    },
    {
      "cell_type": "code",
      "source": [
        "# import pandas as pd\n",
        "\n",
        "# # Create a sample data frame\n",
        "# df = pd.DataFrame({'col1': ['a', 'b', 'c'], 'col2': ['d', 'e', 'f']})\n",
        "\n",
        "# # Concatenate the values in col1 and col2 and store the result in a new column\n",
        "# df['new_col'] = df['col1'] + df['col2']\n",
        "\n",
        "# print(df)"
      ],
      "metadata": {
        "id": "W-Q--XtEZRYM"
      },
      "execution_count": 116,
      "outputs": []
    },
    {
      "cell_type": "code",
      "source": [
        "def concat(row):\n",
        "  return row['action'] + ' ' + row['object'] + ' ' +row['location']\n",
        "\n",
        "df['intent'] = df.apply(concat, axis=1)\n",
        "# print(df)"
      ],
      "metadata": {
        "id": "vdT7GvdkYUUP"
      },
      "execution_count": 117,
      "outputs": []
    },
    {
      "cell_type": "code",
      "source": [
        "df.tail()"
      ],
      "metadata": {
        "colab": {
          "base_uri": "https://localhost:8080/",
          "height": 354
        },
        "id": "Y3B0r-TUXu2F",
        "outputId": "d0052ed8-cae5-4082-c01e-c9fd8d764fdd"
      },
      "execution_count": 118,
      "outputs": [
        {
          "output_type": "execute_result",
          "data": {
            "text/plain": [
              "       Unnamed: 0                                               path  \\\n",
              "23127       23127  wavs/speakers/zZezMeg5XvcbRdg3/b946b340-45e0-1...   \n",
              "23128       23128  wavs/speakers/zZezMeg5XvcbRdg3/beb27cb0-45e0-1...   \n",
              "23129       23129  wavs/speakers/zZezMeg5XvcbRdg3/c45f94e0-45e0-1...   \n",
              "23130       23130  wavs/speakers/zZezMeg5XvcbRdg3/ca60c080-45e0-1...   \n",
              "23131       23131  wavs/speakers/zZezMeg5XvcbRdg3/cf10b400-45e0-1...   \n",
              "\n",
              "              speakerId                                      transcription  \\\n",
              "23127  zZezMeg5XvcbRdg3  I need to practice my Chinese. Switch the lang...   \n",
              "23128  zZezMeg5XvcbRdg3  I need to practice my German. Switch the language   \n",
              "23129  zZezMeg5XvcbRdg3  I need to practice my Korean. Switch the language   \n",
              "23130  zZezMeg5XvcbRdg3  I need to practice my English. Switch the lang...   \n",
              "23131  zZezMeg5XvcbRdg3                       Turn the washroom lights off   \n",
              "\n",
              "                action   object  location                        intent  \n",
              "23127  change language  Chinese      none  change language Chinese none  \n",
              "23128  change language   German      none   change language German none  \n",
              "23129  change language   Korean      none   change language Korean none  \n",
              "23130  change language  English      none  change language English none  \n",
              "23131       deactivate   lights  washroom    deactivate lights washroom  "
            ],
            "text/html": [
              "\n",
              "  <div id=\"df-1661a567-13cd-4ba2-aeb3-ce6461ccfcff\">\n",
              "    <div class=\"colab-df-container\">\n",
              "      <div>\n",
              "<style scoped>\n",
              "    .dataframe tbody tr th:only-of-type {\n",
              "        vertical-align: middle;\n",
              "    }\n",
              "\n",
              "    .dataframe tbody tr th {\n",
              "        vertical-align: top;\n",
              "    }\n",
              "\n",
              "    .dataframe thead th {\n",
              "        text-align: right;\n",
              "    }\n",
              "</style>\n",
              "<table border=\"1\" class=\"dataframe\">\n",
              "  <thead>\n",
              "    <tr style=\"text-align: right;\">\n",
              "      <th></th>\n",
              "      <th>Unnamed: 0</th>\n",
              "      <th>path</th>\n",
              "      <th>speakerId</th>\n",
              "      <th>transcription</th>\n",
              "      <th>action</th>\n",
              "      <th>object</th>\n",
              "      <th>location</th>\n",
              "      <th>intent</th>\n",
              "    </tr>\n",
              "  </thead>\n",
              "  <tbody>\n",
              "    <tr>\n",
              "      <th>23127</th>\n",
              "      <td>23127</td>\n",
              "      <td>wavs/speakers/zZezMeg5XvcbRdg3/b946b340-45e0-1...</td>\n",
              "      <td>zZezMeg5XvcbRdg3</td>\n",
              "      <td>I need to practice my Chinese. Switch the lang...</td>\n",
              "      <td>change language</td>\n",
              "      <td>Chinese</td>\n",
              "      <td>none</td>\n",
              "      <td>change language Chinese none</td>\n",
              "    </tr>\n",
              "    <tr>\n",
              "      <th>23128</th>\n",
              "      <td>23128</td>\n",
              "      <td>wavs/speakers/zZezMeg5XvcbRdg3/beb27cb0-45e0-1...</td>\n",
              "      <td>zZezMeg5XvcbRdg3</td>\n",
              "      <td>I need to practice my German. Switch the language</td>\n",
              "      <td>change language</td>\n",
              "      <td>German</td>\n",
              "      <td>none</td>\n",
              "      <td>change language German none</td>\n",
              "    </tr>\n",
              "    <tr>\n",
              "      <th>23129</th>\n",
              "      <td>23129</td>\n",
              "      <td>wavs/speakers/zZezMeg5XvcbRdg3/c45f94e0-45e0-1...</td>\n",
              "      <td>zZezMeg5XvcbRdg3</td>\n",
              "      <td>I need to practice my Korean. Switch the language</td>\n",
              "      <td>change language</td>\n",
              "      <td>Korean</td>\n",
              "      <td>none</td>\n",
              "      <td>change language Korean none</td>\n",
              "    </tr>\n",
              "    <tr>\n",
              "      <th>23130</th>\n",
              "      <td>23130</td>\n",
              "      <td>wavs/speakers/zZezMeg5XvcbRdg3/ca60c080-45e0-1...</td>\n",
              "      <td>zZezMeg5XvcbRdg3</td>\n",
              "      <td>I need to practice my English. Switch the lang...</td>\n",
              "      <td>change language</td>\n",
              "      <td>English</td>\n",
              "      <td>none</td>\n",
              "      <td>change language English none</td>\n",
              "    </tr>\n",
              "    <tr>\n",
              "      <th>23131</th>\n",
              "      <td>23131</td>\n",
              "      <td>wavs/speakers/zZezMeg5XvcbRdg3/cf10b400-45e0-1...</td>\n",
              "      <td>zZezMeg5XvcbRdg3</td>\n",
              "      <td>Turn the washroom lights off</td>\n",
              "      <td>deactivate</td>\n",
              "      <td>lights</td>\n",
              "      <td>washroom</td>\n",
              "      <td>deactivate lights washroom</td>\n",
              "    </tr>\n",
              "  </tbody>\n",
              "</table>\n",
              "</div>\n",
              "      <button class=\"colab-df-convert\" onclick=\"convertToInteractive('df-1661a567-13cd-4ba2-aeb3-ce6461ccfcff')\"\n",
              "              title=\"Convert this dataframe to an interactive table.\"\n",
              "              style=\"display:none;\">\n",
              "        \n",
              "  <svg xmlns=\"http://www.w3.org/2000/svg\" height=\"24px\"viewBox=\"0 0 24 24\"\n",
              "       width=\"24px\">\n",
              "    <path d=\"M0 0h24v24H0V0z\" fill=\"none\"/>\n",
              "    <path d=\"M18.56 5.44l.94 2.06.94-2.06 2.06-.94-2.06-.94-.94-2.06-.94 2.06-2.06.94zm-11 1L8.5 8.5l.94-2.06 2.06-.94-2.06-.94L8.5 2.5l-.94 2.06-2.06.94zm10 10l.94 2.06.94-2.06 2.06-.94-2.06-.94-.94-2.06-.94 2.06-2.06.94z\"/><path d=\"M17.41 7.96l-1.37-1.37c-.4-.4-.92-.59-1.43-.59-.52 0-1.04.2-1.43.59L10.3 9.45l-7.72 7.72c-.78.78-.78 2.05 0 2.83L4 21.41c.39.39.9.59 1.41.59.51 0 1.02-.2 1.41-.59l7.78-7.78 2.81-2.81c.8-.78.8-2.07 0-2.86zM5.41 20L4 18.59l7.72-7.72 1.47 1.35L5.41 20z\"/>\n",
              "  </svg>\n",
              "      </button>\n",
              "      \n",
              "  <style>\n",
              "    .colab-df-container {\n",
              "      display:flex;\n",
              "      flex-wrap:wrap;\n",
              "      gap: 12px;\n",
              "    }\n",
              "\n",
              "    .colab-df-convert {\n",
              "      background-color: #E8F0FE;\n",
              "      border: none;\n",
              "      border-radius: 50%;\n",
              "      cursor: pointer;\n",
              "      display: none;\n",
              "      fill: #1967D2;\n",
              "      height: 32px;\n",
              "      padding: 0 0 0 0;\n",
              "      width: 32px;\n",
              "    }\n",
              "\n",
              "    .colab-df-convert:hover {\n",
              "      background-color: #E2EBFA;\n",
              "      box-shadow: 0px 1px 2px rgba(60, 64, 67, 0.3), 0px 1px 3px 1px rgba(60, 64, 67, 0.15);\n",
              "      fill: #174EA6;\n",
              "    }\n",
              "\n",
              "    [theme=dark] .colab-df-convert {\n",
              "      background-color: #3B4455;\n",
              "      fill: #D2E3FC;\n",
              "    }\n",
              "\n",
              "    [theme=dark] .colab-df-convert:hover {\n",
              "      background-color: #434B5C;\n",
              "      box-shadow: 0px 1px 3px 1px rgba(0, 0, 0, 0.15);\n",
              "      filter: drop-shadow(0px 1px 2px rgba(0, 0, 0, 0.3));\n",
              "      fill: #FFFFFF;\n",
              "    }\n",
              "  </style>\n",
              "\n",
              "      <script>\n",
              "        const buttonEl =\n",
              "          document.querySelector('#df-1661a567-13cd-4ba2-aeb3-ce6461ccfcff button.colab-df-convert');\n",
              "        buttonEl.style.display =\n",
              "          google.colab.kernel.accessAllowed ? 'block' : 'none';\n",
              "\n",
              "        async function convertToInteractive(key) {\n",
              "          const element = document.querySelector('#df-1661a567-13cd-4ba2-aeb3-ce6461ccfcff');\n",
              "          const dataTable =\n",
              "            await google.colab.kernel.invokeFunction('convertToInteractive',\n",
              "                                                     [key], {});\n",
              "          if (!dataTable) return;\n",
              "\n",
              "          const docLinkHtml = 'Like what you see? Visit the ' +\n",
              "            '<a target=\"_blank\" href=https://colab.research.google.com/notebooks/data_table.ipynb>data table notebook</a>'\n",
              "            + ' to learn more about interactive tables.';\n",
              "          element.innerHTML = '';\n",
              "          dataTable['output_type'] = 'display_data';\n",
              "          await google.colab.output.renderOutput(dataTable, element);\n",
              "          const docLink = document.createElement('div');\n",
              "          docLink.innerHTML = docLinkHtml;\n",
              "          element.appendChild(docLink);\n",
              "        }\n",
              "      </script>\n",
              "    </div>\n",
              "  </div>\n",
              "  "
            ]
          },
          "metadata": {},
          "execution_count": 118
        }
      ]
    },
    {
      "cell_type": "code",
      "source": [
        "df['intent'].nunique()"
      ],
      "metadata": {
        "colab": {
          "base_uri": "https://localhost:8080/"
        },
        "id": "FfcZfxS0bWlI",
        "outputId": "153bea29-ca83-48d6-d20b-10b27563a6a7"
      },
      "execution_count": 119,
      "outputs": [
        {
          "output_type": "execute_result",
          "data": {
            "text/plain": [
              "31"
            ]
          },
          "metadata": {},
          "execution_count": 119
        }
      ]
    },
    {
      "cell_type": "code",
      "source": [
        "import random\n",
        "\n",
        "# Generate a random integer between 1 and 3793\n",
        "f = random.randint(1, 3793)\n",
        "print(f)\n"
      ],
      "metadata": {
        "colab": {
          "base_uri": "https://localhost:8080/"
        },
        "id": "7jOjn1CrdZaL",
        "outputId": "c088900c-b9a3-4589-cc77-0ce6362cef9f"
      },
      "execution_count": 120,
      "outputs": [
        {
          "output_type": "stream",
          "name": "stdout",
          "text": [
            "605\n"
          ]
        }
      ]
    },
    {
      "cell_type": "code",
      "source": [
        "filepath = df['path'][f]"
      ],
      "metadata": {
        "id": "pp0KmJWGVR4-"
      },
      "execution_count": 121,
      "outputs": []
    },
    {
      "cell_type": "code",
      "source": [
        "filepath = df['path'][f]\n",
        "filepath = filepath.split('/')\n",
        "filename = 'fluent_speech_commands_dataset'\n",
        "for i in filepath:\n",
        "    filename = os.path.join(filename,i)\n",
        "data,sr = librosa.load(filename)"
      ],
      "metadata": {
        "id": "vwcHBsww6mG6"
      },
      "execution_count": 122,
      "outputs": []
    },
    {
      "cell_type": "code",
      "source": [
        "filepath = filepath.split('/')\n",
        "filepath"
      ],
      "metadata": {
        "colab": {
          "base_uri": "https://localhost:8080/",
          "height": 183
        },
        "id": "gLLsrjdfewTy",
        "outputId": "1adb0792-831a-4dcb-b762-efaadde0044a"
      },
      "execution_count": 123,
      "outputs": [
        {
          "output_type": "error",
          "ename": "AttributeError",
          "evalue": "ignored",
          "traceback": [
            "\u001b[0;31m---------------------------------------------------------------------------\u001b[0m",
            "\u001b[0;31mAttributeError\u001b[0m                            Traceback (most recent call last)",
            "\u001b[0;32m<ipython-input-123-74b1a389d92d>\u001b[0m in \u001b[0;36m<module>\u001b[0;34m\u001b[0m\n\u001b[0;32m----> 1\u001b[0;31m \u001b[0mfilepath\u001b[0m \u001b[0;34m=\u001b[0m \u001b[0mfilepath\u001b[0m\u001b[0;34m.\u001b[0m\u001b[0msplit\u001b[0m\u001b[0;34m(\u001b[0m\u001b[0;34m'/'\u001b[0m\u001b[0;34m)\u001b[0m\u001b[0;34m\u001b[0m\u001b[0;34m\u001b[0m\u001b[0m\n\u001b[0m\u001b[1;32m      2\u001b[0m \u001b[0mfilepath\u001b[0m\u001b[0;34m\u001b[0m\u001b[0;34m\u001b[0m\u001b[0m\n",
            "\u001b[0;31mAttributeError\u001b[0m: 'list' object has no attribute 'split'"
          ]
        }
      ]
    },
    {
      "cell_type": "code",
      "source": [
        "filename = 'fluent_speech_commands_dataset'\n",
        "for i in filepath:\n",
        "    filename = os.path.join(filename,i)\n",
        "filename"
      ],
      "metadata": {
        "id": "18h_0KwXe1X2"
      },
      "execution_count": null,
      "outputs": []
    },
    {
      "cell_type": "code",
      "source": [
        "data,sr = librosa.load(filename)"
      ],
      "metadata": {
        "id": "EZE_OT8jdXzG"
      },
      "execution_count": null,
      "outputs": []
    },
    {
      "cell_type": "code",
      "source": [
        "sr"
      ],
      "metadata": {
        "id": "TO4R2HY2e1fB"
      },
      "execution_count": null,
      "outputs": []
    },
    {
      "cell_type": "code",
      "source": [
        "data"
      ],
      "metadata": {
        "id": "Heenjf2le1mb"
      },
      "execution_count": null,
      "outputs": []
    },
    {
      "cell_type": "code",
      "source": [
        "plt.plot(data)\n",
        "plt.show()"
      ],
      "metadata": {
        "id": "Lgb41slQfN47"
      },
      "execution_count": null,
      "outputs": []
    },
    {
      "cell_type": "code",
      "source": [
        "ipd.Audio(filename)"
      ],
      "metadata": {
        "id": "fJn_h3migGwD"
      },
      "execution_count": null,
      "outputs": []
    },
    {
      "cell_type": "code",
      "source": [
        "plt.figure(figsize=(14, 5))\n",
        "librosa.display.waveplot(data, sr=sr)"
      ],
      "metadata": {
        "id": "h_DOehkok4eZ"
      },
      "execution_count": null,
      "outputs": []
    },
    {
      "cell_type": "code",
      "source": [
        "X = librosa.stft(data)\n",
        "Xdb = librosa.amplitude_to_db(abs(X))\n",
        "plt.figure(figsize=(14, 5))\n",
        "librosa.display.specshow(Xdb, sr=sr, x_axis='time', y_axis='hz')"
      ],
      "metadata": {
        "id": "YvXQs_JMk4m2"
      },
      "execution_count": null,
      "outputs": []
    },
    {
      "cell_type": "markdown",
      "source": [
        "# ***UNUSED CODE***\n",
        "\n",
        "> This section contains code that I will need for reference.\n",
        "\n",
        "\n"
      ],
      "metadata": {
        "id": "pzUP_j-MwoEB"
      }
    },
    {
      "cell_type": "code",
      "source": [
        "# # Load the audio data and sample rate\n",
        "# data, sr = librosa.load('audio_file.wav')\n",
        "\n",
        "# # Pre-process the audio data (optional)\n",
        "# data = librosa.feature.rmse(data)\n",
        "\n",
        "# # Compute the power spectrum\n",
        "# power_spectrum = np.abs(librosa.stft(data)) ** 2\n",
        "\n",
        "# # Extract the MFCCs\n",
        "# mfccs = librosa.feature.mfcc(S=power_spectrum, n_mfcc=20)\n",
        "\n",
        "# # Perform CMN on the MFCCs (optional)\n",
        "# mfccs = librosa.util.normalize(mfccs, axis=1)\n",
        "\n",
        "# This code will load the audio data from the file audio_file.wav, apply root mean square (RMS) energy normalization to the data, compute the power spectrum using the short-time Fourier transform (STFT), extract the MFCCs using a Mel filterbank with 20 filters, and perform CMN on the MFCCs. \n",
        "# The resulting MFCCs will be a 2D array, with one row for each frame of audio and one column for each MFCC coefficient."
      ],
      "metadata": {
        "id": "-ngRKl3WnS8p"
      },
      "execution_count": null,
      "outputs": []
    },
    {
      "cell_type": "code",
      "source": [
        "import wave\n",
        "import struct\n",
        "\n",
        "# Open the audio file as a wave object\n",
        "# audio_file = wave.open(\"example.wav\", \"rb\")\n",
        "audio_file = wave.open(filename, \"rb\")\n",
        "\n",
        "# Extract the sampling rate and number of channels from the wave object\n",
        "sampling_rate = audio_file.getframerate()\n",
        "num_channels = audio_file.getnchannels()\n",
        "\n",
        "# Read the entire audio signal as a sequence of frames\n",
        "audio_signal = audio_file.readframes(-1)\n",
        "\n",
        "# Convert the frames to a sequence of samples, using the specified\n",
        "# number of channels and the specified sample width\n",
        "num_samples = len(audio_signal) // (num_channels * audio_file.getsampwidth())\n",
        "samples = struct.unpack(\"{}h\".format(num_samples * num_channels), audio_signal)"
      ],
      "metadata": {
        "id": "OZTnHxClevIz"
      },
      "execution_count": null,
      "outputs": []
    },
    {
      "cell_type": "code",
      "source": [
        "import librosa\n",
        "\n",
        "# Load the audio signal from a file\n",
        "# audio_signal, sampling_rate = librosa.load(\"example.wav\")\n",
        "audio_signal, sampling_rate = librosa.load(filename)\n",
        "\n",
        "# Convert the audio signal to a sequence of samples\n",
        "samples = librosa.util.buf_to_float(audio_signal, n_bytes=2, dtype=np.float32)"
      ],
      "metadata": {
        "id": "YY74DXm2fsiN"
      },
      "execution_count": null,
      "outputs": []
    },
    {
      "cell_type": "code",
      "source": [
        "samples.shape"
      ],
      "metadata": {
        "colab": {
          "base_uri": "https://localhost:8080/"
        },
        "id": "c3Up-ySfgBJb",
        "outputId": "6cb045da-6c05-4eb7-8504-417b63199b69"
      },
      "execution_count": null,
      "outputs": [
        {
          "output_type": "execute_result",
          "data": {
            "text/plain": [
              "(63976,)"
            ]
          },
          "metadata": {},
          "execution_count": 68
        }
      ]
    },
    {
      "cell_type": "code",
      "source": [
        "# import numpy as np\n",
        "\n",
        "# # Reshape the MFCCs data into a 3D array\n",
        "# timesteps = mfccs.shape[0]\n",
        "# num_mfccs = mfccs.shape[1]\n",
        "# mfccs_3d = np.expand_dims(mfccs, axis=2)\n",
        "\n",
        "# # Create the LSTM model\n",
        "# model = keras.Sequential()\n",
        "# model.add(keras.layers.LSTM(32, input_shape=(timesteps, num_mfccs)))\n",
        "# model.add(keras.layers.Dense(1, activation='sigmoid'))\n",
        "\n",
        "# # Compile and fit the model\n",
        "# model.compile(optimizer='adam', loss='binary_crossentropy', metrics=['accuracy'])\n",
        "# model.fit(mfccs_3d, labels, epochs=10)\n"
      ],
      "metadata": {
        "id": "OGLRnY0koKKH"
      },
      "execution_count": null,
      "outputs": []
    },
    {
      "cell_type": "code",
      "source": [
        "# import json\n",
        "# import os\n",
        "# import math\n",
        "# import librosa\n",
        "\n",
        "# DATASET_PATH = \"path/to/marsyas/dataset\"\n",
        "# JSON_PATH = \"data_10.json\"\n",
        "# SAMPLE_RATE = 22050\n",
        "# TRACK_DURATION = 30 # measured in seconds\n",
        "# SAMPLES_PER_TRACK = SAMPLE_RATE * TRACK_DURATION\n",
        "\n",
        "\n",
        "# def save_mfcc(dataset_path, json_path, num_mfcc=13, n_fft=2048, hop_length=512, num_segments=5):\n",
        "#     \"\"\"Extracts MFCCs from music dataset and saves them into a json file along witgh genre labels.\n",
        "\n",
        "#         :param dataset_path (str): Path to dataset\n",
        "#         :param json_path (str): Path to json file used to save MFCCs\n",
        "#         :param num_mfcc (int): Number of coefficients to extract\n",
        "#         :param n_fft (int): Interval we consider to apply FFT. Measured in # of samples\n",
        "#         :param hop_length (int): Sliding window for FFT. Measured in # of samples\n",
        "#         :param: num_segments (int): Number of segments we want to divide sample tracks into\n",
        "#         :return:\n",
        "#         \"\"\"\n",
        "\n",
        "#     # dictionary to store mapping, labels, and MFCCs\n",
        "#     data = {\n",
        "#         \"mapping\": [],\n",
        "#         \"labels\": [],\n",
        "#         \"mfcc\": []\n",
        "#     }\n",
        "\n",
        "#     samples_per_segment = int(SAMPLES_PER_TRACK / num_segments)\n",
        "#     num_mfcc_vectors_per_segment = math.ceil(samples_per_segment / hop_length)\n",
        "\n",
        "#     # loop through all genre sub-folder\n",
        "#     for i, (dirpath, dirnames, filenames) in enumerate(os.walk(dataset_path)):\n",
        "\n",
        "#         # ensure we're processing a genre sub-folder level\n",
        "#         if dirpath is not dataset_path:\n",
        "\n",
        "#             # save genre label (i.e., sub-folder name) in the mapping\n",
        "#             semantic_label = dirpath.split(\"/\")[-1]\n",
        "#             data[\"mapping\"].append(semantic_label)\n",
        "#             print(\"\\nProcessing: {}\".format(semantic_label))\n",
        "\n",
        "#             # process all audio files in genre sub-dir\n",
        "#             for f in filenames:\n",
        "\n",
        "# \t\t# load audio file\n",
        "#                 file_path = os.path.join(dirpath, f)\n",
        "#                 signal, sample_rate = librosa.load(file_path, sr=SAMPLE_RATE)\n",
        "\n",
        "#                 # process all segments of audio file\n",
        "#                 for d in range(num_segments):\n",
        "\n",
        "#                     # calculate start and finish sample for current segment\n",
        "#                     start = samples_per_segment * d\n",
        "#                     finish = start + samples_per_segment\n",
        "\n",
        "#                     # extract mfcc\n",
        "#                     mfcc = librosa.feature.mfcc(signal[start:finish], sample_rate, n_mfcc=num_mfcc, n_fft=n_fft, hop_length=hop_length)\n",
        "#                     mfcc = mfcc.T\n",
        "\n",
        "#                     # store only mfcc feature with expected number of vectors\n",
        "#                     if len(mfcc) == num_mfcc_vectors_per_segment:\n",
        "#                         data[\"mfcc\"].append(mfcc.tolist())\n",
        "#                         data[\"labels\"].append(i-1)\n",
        "#                         print(\"{}, segment:{}\".format(file_path, d+1))\n",
        "\n",
        "#     # save MFCCs to json file\n",
        "#     with open(json_path, \"w\") as fp:\n",
        "#         json.dump(data, fp, indent=4)\n",
        "        \n",
        "        \n",
        "# if __name__ == \"__main__\":\n",
        "#     save_mfcc(DATASET_PATH, JSON_PATH, num_segments=10)"
      ],
      "metadata": {
        "id": "PZHA_uH7qvUo"
      },
      "execution_count": null,
      "outputs": []
    },
    {
      "cell_type": "code",
      "source": [
        "# from scipy.io.wavfile import read\n",
        "# from python_speech_features import mfcc\n",
        "\n",
        "# mfccs = []\n",
        "# labels = []\n",
        "\n",
        "# for index, row in df.iterrows():\n",
        "#     # Load the audio file\n",
        "#     fs, signal = read(row['path'])\n",
        "    \n",
        "#     # Extract the MFCCs\n",
        "#     mfcc_features = mfcc(signal, fs)\n",
        "    \n",
        "#     # Append the MFCCs and label to the list\n",
        "#     mfccs.append(mfcc_features)\n",
        "#     labels.append(row['label'])\n"
      ],
      "metadata": {
        "id": "Mx2u92OX24Od"
      },
      "execution_count": null,
      "outputs": []
    },
    {
      "cell_type": "code",
      "source": [
        "# import librosa\n",
        "\n",
        "# mfccs = []\n",
        "# labels = []\n",
        "\n",
        "# for index, row in df.iterrows():\n",
        "#     # Load the audio file\n",
        "#     signal, fs = librosa.load(row['path'])\n",
        "    \n",
        "#     # Extract the MFCCs\n",
        "#     mfcc_features = librosa.feature.mfcc(signal, fs, n_mfcc=40)\n",
        "    \n",
        "#     # Append the MFCCs and label to the list\n",
        "#     mfccs.append(mfcc_features)\n",
        "#     labels.append(row['label'])\n"
      ],
      "metadata": {
        "id": "S5gz05Fqk4vn"
      },
      "execution_count": 59,
      "outputs": []
    },
    {
      "cell_type": "markdown",
      "source": [
        "# **Data** **Preprocessing**"
      ],
      "metadata": {
        "id": "inAFG_zz3GXI"
      }
    },
    {
      "cell_type": "markdown",
      "source": [
        "## 1. Loading training set"
      ],
      "metadata": {
        "id": "uJNfBbKAHs6r"
      }
    },
    {
      "cell_type": "code",
      "source": [
        "df = pd.read_csv(\"fluent_speech_commands_dataset/data/train_data.csv\")"
      ],
      "metadata": {
        "id": "iDFvjQsyLJM3"
      },
      "execution_count": 139,
      "outputs": []
    },
    {
      "cell_type": "code",
      "source": [
        "def concat(row):\n",
        "  return row['action'] + ' ' + row['object'] + ' ' +row['location']"
      ],
      "metadata": {
        "id": "82qlucArSWNV"
      },
      "execution_count": 94,
      "outputs": []
    },
    {
      "cell_type": "code",
      "source": [
        "df.head()"
      ],
      "metadata": {
        "colab": {
          "base_uri": "https://localhost:8080/",
          "height": 206
        },
        "id": "oRdbMKlhvGF4",
        "outputId": "3821eb36-a1de-4ebb-e035-e10a2924aa64"
      },
      "execution_count": 95,
      "outputs": [
        {
          "output_type": "execute_result",
          "data": {
            "text/plain": [
              "   Unnamed: 0                                               path  \\\n",
              "0           0  wavs/speakers/2BqVo8kVB2Skwgyb/0a3129c0-4474-1...   \n",
              "1           1  wavs/speakers/2BqVo8kVB2Skwgyb/0ee42a80-4474-1...   \n",
              "2           2  wavs/speakers/2BqVo8kVB2Skwgyb/144d5be0-4474-1...   \n",
              "3           3  wavs/speakers/2BqVo8kVB2Skwgyb/1811b6e0-4474-1...   \n",
              "4           4  wavs/speakers/2BqVo8kVB2Skwgyb/1d9f3920-4474-1...   \n",
              "\n",
              "          speakerId          transcription           action  object location  \n",
              "0  2BqVo8kVB2Skwgyb        Change language  change language    none     none  \n",
              "1  2BqVo8kVB2Skwgyb                 Resume         activate   music     none  \n",
              "2  2BqVo8kVB2Skwgyb     Turn the lights on         activate  lights     none  \n",
              "3  2BqVo8kVB2Skwgyb   Switch on the lights         activate  lights     none  \n",
              "4  2BqVo8kVB2Skwgyb  Switch off the lights       deactivate  lights     none  "
            ],
            "text/html": [
              "\n",
              "  <div id=\"df-28e04d1c-0e29-454e-9a3a-dc9b08df169e\">\n",
              "    <div class=\"colab-df-container\">\n",
              "      <div>\n",
              "<style scoped>\n",
              "    .dataframe tbody tr th:only-of-type {\n",
              "        vertical-align: middle;\n",
              "    }\n",
              "\n",
              "    .dataframe tbody tr th {\n",
              "        vertical-align: top;\n",
              "    }\n",
              "\n",
              "    .dataframe thead th {\n",
              "        text-align: right;\n",
              "    }\n",
              "</style>\n",
              "<table border=\"1\" class=\"dataframe\">\n",
              "  <thead>\n",
              "    <tr style=\"text-align: right;\">\n",
              "      <th></th>\n",
              "      <th>Unnamed: 0</th>\n",
              "      <th>path</th>\n",
              "      <th>speakerId</th>\n",
              "      <th>transcription</th>\n",
              "      <th>action</th>\n",
              "      <th>object</th>\n",
              "      <th>location</th>\n",
              "    </tr>\n",
              "  </thead>\n",
              "  <tbody>\n",
              "    <tr>\n",
              "      <th>0</th>\n",
              "      <td>0</td>\n",
              "      <td>wavs/speakers/2BqVo8kVB2Skwgyb/0a3129c0-4474-1...</td>\n",
              "      <td>2BqVo8kVB2Skwgyb</td>\n",
              "      <td>Change language</td>\n",
              "      <td>change language</td>\n",
              "      <td>none</td>\n",
              "      <td>none</td>\n",
              "    </tr>\n",
              "    <tr>\n",
              "      <th>1</th>\n",
              "      <td>1</td>\n",
              "      <td>wavs/speakers/2BqVo8kVB2Skwgyb/0ee42a80-4474-1...</td>\n",
              "      <td>2BqVo8kVB2Skwgyb</td>\n",
              "      <td>Resume</td>\n",
              "      <td>activate</td>\n",
              "      <td>music</td>\n",
              "      <td>none</td>\n",
              "    </tr>\n",
              "    <tr>\n",
              "      <th>2</th>\n",
              "      <td>2</td>\n",
              "      <td>wavs/speakers/2BqVo8kVB2Skwgyb/144d5be0-4474-1...</td>\n",
              "      <td>2BqVo8kVB2Skwgyb</td>\n",
              "      <td>Turn the lights on</td>\n",
              "      <td>activate</td>\n",
              "      <td>lights</td>\n",
              "      <td>none</td>\n",
              "    </tr>\n",
              "    <tr>\n",
              "      <th>3</th>\n",
              "      <td>3</td>\n",
              "      <td>wavs/speakers/2BqVo8kVB2Skwgyb/1811b6e0-4474-1...</td>\n",
              "      <td>2BqVo8kVB2Skwgyb</td>\n",
              "      <td>Switch on the lights</td>\n",
              "      <td>activate</td>\n",
              "      <td>lights</td>\n",
              "      <td>none</td>\n",
              "    </tr>\n",
              "    <tr>\n",
              "      <th>4</th>\n",
              "      <td>4</td>\n",
              "      <td>wavs/speakers/2BqVo8kVB2Skwgyb/1d9f3920-4474-1...</td>\n",
              "      <td>2BqVo8kVB2Skwgyb</td>\n",
              "      <td>Switch off the lights</td>\n",
              "      <td>deactivate</td>\n",
              "      <td>lights</td>\n",
              "      <td>none</td>\n",
              "    </tr>\n",
              "  </tbody>\n",
              "</table>\n",
              "</div>\n",
              "      <button class=\"colab-df-convert\" onclick=\"convertToInteractive('df-28e04d1c-0e29-454e-9a3a-dc9b08df169e')\"\n",
              "              title=\"Convert this dataframe to an interactive table.\"\n",
              "              style=\"display:none;\">\n",
              "        \n",
              "  <svg xmlns=\"http://www.w3.org/2000/svg\" height=\"24px\"viewBox=\"0 0 24 24\"\n",
              "       width=\"24px\">\n",
              "    <path d=\"M0 0h24v24H0V0z\" fill=\"none\"/>\n",
              "    <path d=\"M18.56 5.44l.94 2.06.94-2.06 2.06-.94-2.06-.94-.94-2.06-.94 2.06-2.06.94zm-11 1L8.5 8.5l.94-2.06 2.06-.94-2.06-.94L8.5 2.5l-.94 2.06-2.06.94zm10 10l.94 2.06.94-2.06 2.06-.94-2.06-.94-.94-2.06-.94 2.06-2.06.94z\"/><path d=\"M17.41 7.96l-1.37-1.37c-.4-.4-.92-.59-1.43-.59-.52 0-1.04.2-1.43.59L10.3 9.45l-7.72 7.72c-.78.78-.78 2.05 0 2.83L4 21.41c.39.39.9.59 1.41.59.51 0 1.02-.2 1.41-.59l7.78-7.78 2.81-2.81c.8-.78.8-2.07 0-2.86zM5.41 20L4 18.59l7.72-7.72 1.47 1.35L5.41 20z\"/>\n",
              "  </svg>\n",
              "      </button>\n",
              "      \n",
              "  <style>\n",
              "    .colab-df-container {\n",
              "      display:flex;\n",
              "      flex-wrap:wrap;\n",
              "      gap: 12px;\n",
              "    }\n",
              "\n",
              "    .colab-df-convert {\n",
              "      background-color: #E8F0FE;\n",
              "      border: none;\n",
              "      border-radius: 50%;\n",
              "      cursor: pointer;\n",
              "      display: none;\n",
              "      fill: #1967D2;\n",
              "      height: 32px;\n",
              "      padding: 0 0 0 0;\n",
              "      width: 32px;\n",
              "    }\n",
              "\n",
              "    .colab-df-convert:hover {\n",
              "      background-color: #E2EBFA;\n",
              "      box-shadow: 0px 1px 2px rgba(60, 64, 67, 0.3), 0px 1px 3px 1px rgba(60, 64, 67, 0.15);\n",
              "      fill: #174EA6;\n",
              "    }\n",
              "\n",
              "    [theme=dark] .colab-df-convert {\n",
              "      background-color: #3B4455;\n",
              "      fill: #D2E3FC;\n",
              "    }\n",
              "\n",
              "    [theme=dark] .colab-df-convert:hover {\n",
              "      background-color: #434B5C;\n",
              "      box-shadow: 0px 1px 3px 1px rgba(0, 0, 0, 0.15);\n",
              "      filter: drop-shadow(0px 1px 2px rgba(0, 0, 0, 0.3));\n",
              "      fill: #FFFFFF;\n",
              "    }\n",
              "  </style>\n",
              "\n",
              "      <script>\n",
              "        const buttonEl =\n",
              "          document.querySelector('#df-28e04d1c-0e29-454e-9a3a-dc9b08df169e button.colab-df-convert');\n",
              "        buttonEl.style.display =\n",
              "          google.colab.kernel.accessAllowed ? 'block' : 'none';\n",
              "\n",
              "        async function convertToInteractive(key) {\n",
              "          const element = document.querySelector('#df-28e04d1c-0e29-454e-9a3a-dc9b08df169e');\n",
              "          const dataTable =\n",
              "            await google.colab.kernel.invokeFunction('convertToInteractive',\n",
              "                                                     [key], {});\n",
              "          if (!dataTable) return;\n",
              "\n",
              "          const docLinkHtml = 'Like what you see? Visit the ' +\n",
              "            '<a target=\"_blank\" href=https://colab.research.google.com/notebooks/data_table.ipynb>data table notebook</a>'\n",
              "            + ' to learn more about interactive tables.';\n",
              "          element.innerHTML = '';\n",
              "          dataTable['output_type'] = 'display_data';\n",
              "          await google.colab.output.renderOutput(dataTable, element);\n",
              "          const docLink = document.createElement('div');\n",
              "          docLink.innerHTML = docLinkHtml;\n",
              "          element.appendChild(docLink);\n",
              "        }\n",
              "      </script>\n",
              "    </div>\n",
              "  </div>\n",
              "  "
            ]
          },
          "metadata": {},
          "execution_count": 95
        }
      ]
    },
    {
      "cell_type": "code",
      "source": [
        "df['intent'] = df.apply(concat, axis=1)"
      ],
      "metadata": {
        "id": "sBSXJZL_Lvu6"
      },
      "execution_count": 133,
      "outputs": []
    },
    {
      "cell_type": "code",
      "source": [
        "mfccs = []\n",
        "labels = []"
      ],
      "metadata": {
        "id": "lZwSrq_6k45M"
      },
      "execution_count": 97,
      "outputs": []
    },
    {
      "cell_type": "code",
      "source": [
        "#function to load data\n",
        "def load_set(path):\n",
        "  #load dataframe\n",
        "  df = pd.read_csv(\"path\")\n",
        "  df['intent'] = df.apply(concat, axis=1)\n",
        "  mfccs = []\n",
        "  labels = []\n",
        "  for index, row in df.iterrows():\n",
        "    filepath = row['path']\n",
        "    filepath = filepath.split('/')\n",
        "    filename = 'fluent_speech_commands_dataset'\n",
        "    for i in filepath:\n",
        "      filename = os.path.join(filename,i)\n",
        "    \n",
        "    #filename extracted\n",
        "    # Load the audio file\n",
        "    data,sr = librosa.load(filename)\n",
        "\n",
        "    #extract mfccs\n",
        "    mfcc_features = librosa.feature.mfcc(data, sr, n_mfcc=40)\n",
        "\n",
        "    mfccs.append(mfcc_features)\n",
        "    labels.append(row['intent'])\n",
        "    # Determine the maximum number of MFCCs\n",
        "    max_mfccs = max([mfcc.shape[1] for mfcc in mfccs])\n",
        "\n",
        "    # Pad the MFCC arrays with zeros so that they all have the same shape\n",
        "    padded_mfccs = [np.pad(mfcc, ((0,0), (0, max_mfccs - mfcc.shape[1])), 'constant') for mfcc in mfccs]\n",
        "\n",
        "    # Stack the padded MFCC arrays into a single matrix\n",
        "    mfccs = np.vstack(padded_mfccs)\n",
        "\n",
        "\n",
        "    # Convert the labels to a numerical format using LabelEncoder\n",
        "\n",
        "    le = LabelEncoder()\n",
        "    labels = le.fit_transform(labels)\n",
        "\n",
        "    return mfccs, labels"
      ],
      "metadata": {
        "id": "oxRgcAVoR3G_"
      },
      "execution_count": null,
      "outputs": []
    },
    {
      "cell_type": "code",
      "source": [
        "for index, row in df.iterrows():\n",
        "    filepath = row['path']\n",
        "    filepath = filepath.split('/')\n",
        "    filename = 'fluent_speech_commands_dataset'\n",
        "    for i in filepath:\n",
        "      filename = os.path.join(filename,i)\n",
        "    \n",
        "    #filename extracted\n",
        "    # Load the audio file\n",
        "    data,sr = librosa.load(filename)\n",
        "\n",
        "    #extract mfccs\n",
        "    mfcc_features = librosa.feature.mfcc(data, sr, n_mfcc=40)\n",
        "\n",
        "    mfccs.append(mfcc_features)\n",
        "    labels.append(row['intent'])\n",
        "    "
      ],
      "metadata": {
        "id": "dAKOjpAxoGyI",
        "colab": {
          "base_uri": "https://localhost:8080/",
          "height": 415
        },
        "outputId": "03563443-adcb-428d-8a92-d9ad01fc1691"
      },
      "execution_count": 98,
      "outputs": [
        {
          "output_type": "error",
          "ename": "KeyboardInterrupt",
          "evalue": "ignored",
          "traceback": [
            "\u001b[0;31m---------------------------------------------------------------------------\u001b[0m",
            "\u001b[0;31mKeyboardInterrupt\u001b[0m                         Traceback (most recent call last)",
            "\u001b[0;32m<ipython-input-98-e54f5dbac5ee>\u001b[0m in \u001b[0;36m<module>\u001b[0;34m\u001b[0m\n\u001b[1;32m     11\u001b[0m \u001b[0;34m\u001b[0m\u001b[0m\n\u001b[1;32m     12\u001b[0m     \u001b[0;31m#extract mfccs\u001b[0m\u001b[0;34m\u001b[0m\u001b[0;34m\u001b[0m\u001b[0;34m\u001b[0m\u001b[0m\n\u001b[0;32m---> 13\u001b[0;31m     \u001b[0mmfcc_features\u001b[0m \u001b[0;34m=\u001b[0m \u001b[0mlibrosa\u001b[0m\u001b[0;34m.\u001b[0m\u001b[0mfeature\u001b[0m\u001b[0;34m.\u001b[0m\u001b[0mmfcc\u001b[0m\u001b[0;34m(\u001b[0m\u001b[0mdata\u001b[0m\u001b[0;34m,\u001b[0m \u001b[0msr\u001b[0m\u001b[0;34m,\u001b[0m \u001b[0mn_mfcc\u001b[0m\u001b[0;34m=\u001b[0m\u001b[0;36m40\u001b[0m\u001b[0;34m)\u001b[0m\u001b[0;34m\u001b[0m\u001b[0;34m\u001b[0m\u001b[0m\n\u001b[0m\u001b[1;32m     14\u001b[0m \u001b[0;34m\u001b[0m\u001b[0m\n\u001b[1;32m     15\u001b[0m     \u001b[0mmfccs\u001b[0m\u001b[0;34m.\u001b[0m\u001b[0mappend\u001b[0m\u001b[0;34m(\u001b[0m\u001b[0mmfcc_features\u001b[0m\u001b[0;34m)\u001b[0m\u001b[0;34m\u001b[0m\u001b[0;34m\u001b[0m\u001b[0m\n",
            "\u001b[0;32m/usr/local/lib/python3.8/dist-packages/librosa/feature/spectral.py\u001b[0m in \u001b[0;36mmfcc\u001b[0;34m(y, sr, S, n_mfcc, dct_type, norm, lifter, **kwargs)\u001b[0m\n\u001b[1;32m   1849\u001b[0m \u001b[0;34m\u001b[0m\u001b[0m\n\u001b[1;32m   1850\u001b[0m     \u001b[0;32mif\u001b[0m \u001b[0mS\u001b[0m \u001b[0;32mis\u001b[0m \u001b[0;32mNone\u001b[0m\u001b[0;34m:\u001b[0m\u001b[0;34m\u001b[0m\u001b[0;34m\u001b[0m\u001b[0m\n\u001b[0;32m-> 1851\u001b[0;31m         \u001b[0mS\u001b[0m \u001b[0;34m=\u001b[0m \u001b[0mpower_to_db\u001b[0m\u001b[0;34m(\u001b[0m\u001b[0mmelspectrogram\u001b[0m\u001b[0;34m(\u001b[0m\u001b[0my\u001b[0m\u001b[0;34m=\u001b[0m\u001b[0my\u001b[0m\u001b[0;34m,\u001b[0m \u001b[0msr\u001b[0m\u001b[0;34m=\u001b[0m\u001b[0msr\u001b[0m\u001b[0;34m,\u001b[0m \u001b[0;34m**\u001b[0m\u001b[0mkwargs\u001b[0m\u001b[0;34m)\u001b[0m\u001b[0;34m)\u001b[0m\u001b[0;34m\u001b[0m\u001b[0;34m\u001b[0m\u001b[0m\n\u001b[0m\u001b[1;32m   1852\u001b[0m \u001b[0;34m\u001b[0m\u001b[0m\n\u001b[1;32m   1853\u001b[0m     \u001b[0mM\u001b[0m \u001b[0;34m=\u001b[0m \u001b[0mscipy\u001b[0m\u001b[0;34m.\u001b[0m\u001b[0mfftpack\u001b[0m\u001b[0;34m.\u001b[0m\u001b[0mdct\u001b[0m\u001b[0;34m(\u001b[0m\u001b[0mS\u001b[0m\u001b[0;34m,\u001b[0m \u001b[0maxis\u001b[0m\u001b[0;34m=\u001b[0m\u001b[0;36m0\u001b[0m\u001b[0;34m,\u001b[0m \u001b[0mtype\u001b[0m\u001b[0;34m=\u001b[0m\u001b[0mdct_type\u001b[0m\u001b[0;34m,\u001b[0m \u001b[0mnorm\u001b[0m\u001b[0;34m=\u001b[0m\u001b[0mnorm\u001b[0m\u001b[0;34m)\u001b[0m\u001b[0;34m[\u001b[0m\u001b[0;34m:\u001b[0m\u001b[0mn_mfcc\u001b[0m\u001b[0;34m]\u001b[0m\u001b[0;34m\u001b[0m\u001b[0;34m\u001b[0m\u001b[0m\n",
            "\u001b[0;32m/usr/local/lib/python3.8/dist-packages/librosa/feature/spectral.py\u001b[0m in \u001b[0;36mmelspectrogram\u001b[0;34m(y, sr, S, n_fft, hop_length, win_length, window, center, pad_mode, power, **kwargs)\u001b[0m\n\u001b[1;32m   1993\u001b[0m     \"\"\"\n\u001b[1;32m   1994\u001b[0m \u001b[0;34m\u001b[0m\u001b[0m\n\u001b[0;32m-> 1995\u001b[0;31m     S, n_fft = _spectrogram(\n\u001b[0m\u001b[1;32m   1996\u001b[0m         \u001b[0my\u001b[0m\u001b[0;34m=\u001b[0m\u001b[0my\u001b[0m\u001b[0;34m,\u001b[0m\u001b[0;34m\u001b[0m\u001b[0;34m\u001b[0m\u001b[0m\n\u001b[1;32m   1997\u001b[0m         \u001b[0mS\u001b[0m\u001b[0;34m=\u001b[0m\u001b[0mS\u001b[0m\u001b[0;34m,\u001b[0m\u001b[0;34m\u001b[0m\u001b[0;34m\u001b[0m\u001b[0m\n",
            "\u001b[0;32m/usr/local/lib/python3.8/dist-packages/librosa/core/spectrum.py\u001b[0m in \u001b[0;36m_spectrogram\u001b[0;34m(y, S, n_fft, hop_length, power, win_length, window, center, pad_mode)\u001b[0m\n\u001b[1;32m   2510\u001b[0m         S = (\n\u001b[1;32m   2511\u001b[0m             np.abs(\n\u001b[0;32m-> 2512\u001b[0;31m                 stft(\n\u001b[0m\u001b[1;32m   2513\u001b[0m                     \u001b[0my\u001b[0m\u001b[0;34m,\u001b[0m\u001b[0;34m\u001b[0m\u001b[0;34m\u001b[0m\u001b[0m\n\u001b[1;32m   2514\u001b[0m                     \u001b[0mn_fft\u001b[0m\u001b[0;34m=\u001b[0m\u001b[0mn_fft\u001b[0m\u001b[0;34m,\u001b[0m\u001b[0;34m\u001b[0m\u001b[0;34m\u001b[0m\u001b[0m\n",
            "\u001b[0;32m/usr/local/lib/python3.8/dist-packages/librosa/core/spectrum.py\u001b[0m in \u001b[0;36mstft\u001b[0;34m(y, n_fft, hop_length, win_length, window, center, dtype, pad_mode)\u001b[0m\n\u001b[1;32m    255\u001b[0m         \u001b[0mbl_t\u001b[0m \u001b[0;34m=\u001b[0m \u001b[0mmin\u001b[0m\u001b[0;34m(\u001b[0m\u001b[0mbl_s\u001b[0m \u001b[0;34m+\u001b[0m \u001b[0mn_columns\u001b[0m\u001b[0;34m,\u001b[0m \u001b[0mstft_matrix\u001b[0m\u001b[0;34m.\u001b[0m\u001b[0mshape\u001b[0m\u001b[0;34m[\u001b[0m\u001b[0;36m1\u001b[0m\u001b[0;34m]\u001b[0m\u001b[0;34m)\u001b[0m\u001b[0;34m\u001b[0m\u001b[0;34m\u001b[0m\u001b[0m\n\u001b[1;32m    256\u001b[0m \u001b[0;34m\u001b[0m\u001b[0m\n\u001b[0;32m--> 257\u001b[0;31m         stft_matrix[:, bl_s:bl_t] = fft.rfft(\n\u001b[0m\u001b[1;32m    258\u001b[0m             \u001b[0mfft_window\u001b[0m \u001b[0;34m*\u001b[0m \u001b[0my_frames\u001b[0m\u001b[0;34m[\u001b[0m\u001b[0;34m:\u001b[0m\u001b[0;34m,\u001b[0m \u001b[0mbl_s\u001b[0m\u001b[0;34m:\u001b[0m\u001b[0mbl_t\u001b[0m\u001b[0;34m]\u001b[0m\u001b[0;34m,\u001b[0m \u001b[0maxis\u001b[0m\u001b[0;34m=\u001b[0m\u001b[0;36m0\u001b[0m\u001b[0;34m\u001b[0m\u001b[0;34m\u001b[0m\u001b[0m\n\u001b[1;32m    259\u001b[0m         )\n",
            "\u001b[0;32m<__array_function__ internals>\u001b[0m in \u001b[0;36mrfft\u001b[0;34m(*args, **kwargs)\u001b[0m\n",
            "\u001b[0;32m/usr/local/lib/python3.8/dist-packages/numpy/fft/_pocketfft.py\u001b[0m in \u001b[0;36mrfft\u001b[0;34m(a, n, axis, norm)\u001b[0m\n\u001b[1;32m    407\u001b[0m         \u001b[0mn\u001b[0m \u001b[0;34m=\u001b[0m \u001b[0ma\u001b[0m\u001b[0;34m.\u001b[0m\u001b[0mshape\u001b[0m\u001b[0;34m[\u001b[0m\u001b[0maxis\u001b[0m\u001b[0;34m]\u001b[0m\u001b[0;34m\u001b[0m\u001b[0;34m\u001b[0m\u001b[0m\n\u001b[1;32m    408\u001b[0m     \u001b[0minv_norm\u001b[0m \u001b[0;34m=\u001b[0m \u001b[0m_get_forward_norm\u001b[0m\u001b[0;34m(\u001b[0m\u001b[0mn\u001b[0m\u001b[0;34m,\u001b[0m \u001b[0mnorm\u001b[0m\u001b[0;34m)\u001b[0m\u001b[0;34m\u001b[0m\u001b[0;34m\u001b[0m\u001b[0m\n\u001b[0;32m--> 409\u001b[0;31m     \u001b[0moutput\u001b[0m \u001b[0;34m=\u001b[0m \u001b[0m_raw_fft\u001b[0m\u001b[0;34m(\u001b[0m\u001b[0ma\u001b[0m\u001b[0;34m,\u001b[0m \u001b[0mn\u001b[0m\u001b[0;34m,\u001b[0m \u001b[0maxis\u001b[0m\u001b[0;34m,\u001b[0m \u001b[0;32mTrue\u001b[0m\u001b[0;34m,\u001b[0m \u001b[0;32mTrue\u001b[0m\u001b[0;34m,\u001b[0m \u001b[0minv_norm\u001b[0m\u001b[0;34m)\u001b[0m\u001b[0;34m\u001b[0m\u001b[0;34m\u001b[0m\u001b[0m\n\u001b[0m\u001b[1;32m    410\u001b[0m     \u001b[0;32mreturn\u001b[0m \u001b[0moutput\u001b[0m\u001b[0;34m\u001b[0m\u001b[0;34m\u001b[0m\u001b[0m\n\u001b[1;32m    411\u001b[0m \u001b[0;34m\u001b[0m\u001b[0m\n",
            "\u001b[0;32m/usr/local/lib/python3.8/dist-packages/numpy/fft/_pocketfft.py\u001b[0m in \u001b[0;36m_raw_fft\u001b[0;34m(a, n, axis, is_real, is_forward, inv_norm)\u001b[0m\n\u001b[1;32m     71\u001b[0m     \u001b[0;32melse\u001b[0m\u001b[0;34m:\u001b[0m\u001b[0;34m\u001b[0m\u001b[0;34m\u001b[0m\u001b[0m\n\u001b[1;32m     72\u001b[0m         \u001b[0ma\u001b[0m \u001b[0;34m=\u001b[0m \u001b[0mswapaxes\u001b[0m\u001b[0;34m(\u001b[0m\u001b[0ma\u001b[0m\u001b[0;34m,\u001b[0m \u001b[0maxis\u001b[0m\u001b[0;34m,\u001b[0m \u001b[0;34m-\u001b[0m\u001b[0;36m1\u001b[0m\u001b[0;34m)\u001b[0m\u001b[0;34m\u001b[0m\u001b[0;34m\u001b[0m\u001b[0m\n\u001b[0;32m---> 73\u001b[0;31m         \u001b[0mr\u001b[0m \u001b[0;34m=\u001b[0m \u001b[0mpfi\u001b[0m\u001b[0;34m.\u001b[0m\u001b[0mexecute\u001b[0m\u001b[0;34m(\u001b[0m\u001b[0ma\u001b[0m\u001b[0;34m,\u001b[0m \u001b[0mis_real\u001b[0m\u001b[0;34m,\u001b[0m \u001b[0mis_forward\u001b[0m\u001b[0;34m,\u001b[0m \u001b[0mfct\u001b[0m\u001b[0;34m)\u001b[0m\u001b[0;34m\u001b[0m\u001b[0;34m\u001b[0m\u001b[0m\n\u001b[0m\u001b[1;32m     74\u001b[0m         \u001b[0mr\u001b[0m \u001b[0;34m=\u001b[0m \u001b[0mswapaxes\u001b[0m\u001b[0;34m(\u001b[0m\u001b[0mr\u001b[0m\u001b[0;34m,\u001b[0m \u001b[0maxis\u001b[0m\u001b[0;34m,\u001b[0m \u001b[0;34m-\u001b[0m\u001b[0;36m1\u001b[0m\u001b[0;34m)\u001b[0m\u001b[0;34m\u001b[0m\u001b[0;34m\u001b[0m\u001b[0m\n\u001b[1;32m     75\u001b[0m     \u001b[0;32mreturn\u001b[0m \u001b[0mr\u001b[0m\u001b[0;34m\u001b[0m\u001b[0;34m\u001b[0m\u001b[0m\n",
            "\u001b[0;31mKeyboardInterrupt\u001b[0m: "
          ]
        }
      ]
    },
    {
      "cell_type": "code",
      "source": [],
      "metadata": {
        "id": "hdqUSldiI0lp"
      },
      "execution_count": null,
      "outputs": []
    },
    {
      "cell_type": "code",
      "source": [
        "# #  it means that the MFCC arrays have different shapes. \n",
        "# This can happen if the audio files have different lengths, or if you are using a variable number of MFCCs for different audio files.\n",
        "\n",
        "# # To fix this issue, you can pad the MFCC arrays with zeros so that they all have the same shape, like this:"
      ],
      "metadata": {
        "id": "BNMdEJJjGN26"
      },
      "execution_count": null,
      "outputs": []
    },
    {
      "cell_type": "code",
      "source": [
        "# Determine the maximum number of MFCCs\n",
        "max_mfccs = max([mfcc.shape[1] for mfcc in mfccs])\n",
        "\n",
        "# Pad the MFCC arrays with zeros so that they all have the same shape\n",
        "padded_mfccs = [np.pad(mfcc, ((0,0), (0, max_mfccs - mfcc.shape[1])), 'constant') for mfcc in mfccs]\n",
        "\n",
        "# Stack the padded MFCC arrays into a single matrix\n",
        "mfccs = np.vstack(padded_mfccs)\n",
        "\n",
        "\n",
        "# Convert the labels to a numerical format using LabelEncoder\n",
        "\n",
        "le = LabelEncoder()\n",
        "labels = le.fit_transform(labels)"
      ],
      "metadata": {
        "id": "WgKdzSrdk5lK"
      },
      "execution_count": 65,
      "outputs": []
    },
    {
      "cell_type": "code",
      "source": [
        "# from sklearn.model_selection import train_test_split\n",
        "\n",
        "# X_train, X_test, y_train, y_test = train_test_split(mfccs, labels, test_size=0.2, random_state=42)\n"
      ],
      "metadata": {
        "id": "du4JDTFUk6CE"
      },
      "execution_count": null,
      "outputs": []
    },
    {
      "cell_type": "code",
      "source": [
        "X_train = mfccs\n",
        "y_train = labels"
      ],
      "metadata": {
        "id": "Jx-4m6xOGMo0"
      },
      "execution_count": 66,
      "outputs": []
    },
    {
      "cell_type": "code",
      "source": [
        "X_train.shape"
      ],
      "metadata": {
        "colab": {
          "base_uri": "https://localhost:8080/"
        },
        "id": "ywOQFQoehcKE",
        "outputId": "3c863183-401a-4f9e-e693-e20ae37bb79f"
      },
      "execution_count": 91,
      "outputs": [
        {
          "output_type": "execute_result",
          "data": {
            "text/plain": [
              "(925280, 570)"
            ]
          },
          "metadata": {},
          "execution_count": 91
        }
      ]
    },
    {
      "cell_type": "code",
      "source": [
        "y_train.shape"
      ],
      "metadata": {
        "colab": {
          "base_uri": "https://localhost:8080/"
        },
        "id": "X4-_F9arhgD6",
        "outputId": "c444f5a0-9b3f-40ad-f515-6f2186211f2e"
      },
      "execution_count": 88,
      "outputs": [
        {
          "output_type": "execute_result",
          "data": {
            "text/plain": [
              "(23132,)"
            ]
          },
          "metadata": {},
          "execution_count": 88
        }
      ]
    },
    {
      "cell_type": "markdown",
      "source": [
        "## 2. Loading test set"
      ],
      "metadata": {
        "id": "luG0i_7pH46L"
      }
    },
    {
      "cell_type": "code",
      "source": [
        "df1 = pd.read_csv(\"fluent_speech_commands_dataset/data/test_data.csv\")"
      ],
      "metadata": {
        "id": "kxCIYA02IC1e"
      },
      "execution_count": 67,
      "outputs": []
    },
    {
      "cell_type": "code",
      "source": [
        "df1['intent'] = df1.apply(concat, axis=1)"
      ],
      "metadata": {
        "id": "Zd8ppofsMq4t"
      },
      "execution_count": null,
      "outputs": []
    },
    {
      "cell_type": "code",
      "source": [
        "mfccs = []\n",
        "labels = []"
      ],
      "metadata": {
        "id": "jI4S7slHI25v"
      },
      "execution_count": null,
      "outputs": []
    },
    {
      "cell_type": "code",
      "source": [
        "for index, row in df1.iterrows():\n",
        "    filepath = row['path']\n",
        "    filepath = filepath.split('/')\n",
        "    filename = 'fluent_speech_commands_dataset'\n",
        "    for i in filepath:\n",
        "      filename = os.path.join(filename,i)\n",
        "    \n",
        "    #filename extracted\n",
        "    # Load the audio file\n",
        "    data,sr = librosa.load(filename)\n",
        "\n",
        "    #extract mfccs\n",
        "    mfcc_features = librosa.feature.mfcc(data, sr, n_mfcc=40)\n",
        "\n",
        "    mfccs.append(mfcc_features)\n",
        "    labels.append(row['intent'])"
      ],
      "metadata": {
        "id": "Av8jFIdhJB_j"
      },
      "execution_count": 73,
      "outputs": []
    },
    {
      "cell_type": "code",
      "source": [
        "max_mfccs = max([mfcc.shape[1] for mfcc in mfccs])\n",
        "\n",
        "# Pad the MFCC arrays with zeros so that they all have the same shape\n",
        "padded_mfccs = [np.pad(mfcc, ((0,0), (0, max_mfccs - mfcc.shape[1])), 'constant') for mfcc in mfccs]\n",
        "\n",
        "# Stack the padded MFCC arrays into a single matrix\n",
        "mfccs = np.vstack(padded_mfccs)\n",
        "\n",
        "\n",
        "# Convert the labels to a numerical format\n",
        "from sklearn.preprocessing import LabelEncoder\n",
        "le = LabelEncoder()\n",
        "labels = le.fit_transform(labels)"
      ],
      "metadata": {
        "id": "dMjdA27LJM_1"
      },
      "execution_count": 74,
      "outputs": []
    },
    {
      "cell_type": "code",
      "source": [
        "X_test = mfccs\n",
        "y_test = labels"
      ],
      "metadata": {
        "id": "pgPPEThnJTuy"
      },
      "execution_count": 75,
      "outputs": []
    },
    {
      "cell_type": "code",
      "source": [
        "np.max(labels)"
      ],
      "metadata": {
        "colab": {
          "base_uri": "https://localhost:8080/"
        },
        "id": "h6YxhNC6fg9C",
        "outputId": "4d8d9d94-021a-4846-aa30-3aadc47e6147"
      },
      "execution_count": 80,
      "outputs": [
        {
          "output_type": "execute_result",
          "data": {
            "text/plain": [
              "30"
            ]
          },
          "metadata": {},
          "execution_count": 80
        }
      ]
    },
    {
      "cell_type": "markdown",
      "source": [
        "# **Model** development"
      ],
      "metadata": {
        "id": "KGgsE57cHcDR"
      }
    },
    {
      "cell_type": "code",
      "source": [
        "from tensorflow.keras.models import Sequential\n",
        "from tensorflow.keras.layers import Dense, Dropout, Activation\n",
        "\n",
        "num_classes = 30\n",
        "model = Sequential()\n",
        "model.add(Dense(256, input_dim=mfccs.shape[1]))\n",
        "model.add(Activation('relu'))\n",
        "model.add(Dropout(0.5))\n",
        "model.add(Dense(256))\n",
        "model.add(Activation('relu'))\n",
        "model.add(Dropout(0.5))\n",
        "model.add(Dense(num_classes))\n",
        "model.add(Activation('softmax'))\n",
        "\n",
        "model.compile(loss='categorical_crossentropy', optimizer='adam', metrics=['accuracy'])\n"
      ],
      "metadata": {
        "id": "uX_E0J_Yqt-7"
      },
      "execution_count": null,
      "outputs": []
    },
    {
      "cell_type": "code",
      "source": [
        "model.fit(X_train, y_train, epochs=10, batch_size=32)\n",
        "\n",
        "score = model.evaluate(X_test, y_test, batch_size=32)"
      ],
      "metadata": {
        "colab": {
          "base_uri": "https://localhost:8080/",
          "height": 397
        },
        "id": "CfO0MFDt9kvL",
        "outputId": "ed74ff29-4976-49e8-9122-13baadea1f47"
      },
      "execution_count": 82,
      "outputs": [
        {
          "output_type": "error",
          "ename": "ValueError",
          "evalue": "ignored",
          "traceback": [
            "\u001b[0;31m---------------------------------------------------------------------------\u001b[0m",
            "\u001b[0;31mValueError\u001b[0m                                Traceback (most recent call last)",
            "\u001b[0;32m<ipython-input-82-213037d4a154>\u001b[0m in \u001b[0;36m<module>\u001b[0;34m\u001b[0m\n\u001b[0;32m----> 1\u001b[0;31m \u001b[0mmodel\u001b[0m\u001b[0;34m.\u001b[0m\u001b[0mfit\u001b[0m\u001b[0;34m(\u001b[0m\u001b[0mX_train\u001b[0m\u001b[0;34m,\u001b[0m \u001b[0my_train\u001b[0m\u001b[0;34m,\u001b[0m \u001b[0mepochs\u001b[0m\u001b[0;34m=\u001b[0m\u001b[0;36m10\u001b[0m\u001b[0;34m,\u001b[0m \u001b[0mbatch_size\u001b[0m\u001b[0;34m=\u001b[0m\u001b[0;36m32\u001b[0m\u001b[0;34m)\u001b[0m\u001b[0;34m\u001b[0m\u001b[0;34m\u001b[0m\u001b[0m\n\u001b[0m\u001b[1;32m      2\u001b[0m \u001b[0;34m\u001b[0m\u001b[0m\n\u001b[1;32m      3\u001b[0m \u001b[0mscore\u001b[0m \u001b[0;34m=\u001b[0m \u001b[0mmodel\u001b[0m\u001b[0;34m.\u001b[0m\u001b[0mevaluate\u001b[0m\u001b[0;34m(\u001b[0m\u001b[0mX_test\u001b[0m\u001b[0;34m,\u001b[0m \u001b[0my_test\u001b[0m\u001b[0;34m,\u001b[0m \u001b[0mbatch_size\u001b[0m\u001b[0;34m=\u001b[0m\u001b[0;36m32\u001b[0m\u001b[0;34m)\u001b[0m\u001b[0;34m\u001b[0m\u001b[0;34m\u001b[0m\u001b[0m\n",
            "\u001b[0;32m/usr/local/lib/python3.8/dist-packages/keras/utils/traceback_utils.py\u001b[0m in \u001b[0;36merror_handler\u001b[0;34m(*args, **kwargs)\u001b[0m\n\u001b[1;32m     65\u001b[0m     \u001b[0;32mexcept\u001b[0m \u001b[0mException\u001b[0m \u001b[0;32mas\u001b[0m \u001b[0me\u001b[0m\u001b[0;34m:\u001b[0m  \u001b[0;31m# pylint: disable=broad-except\u001b[0m\u001b[0;34m\u001b[0m\u001b[0;34m\u001b[0m\u001b[0m\n\u001b[1;32m     66\u001b[0m       \u001b[0mfiltered_tb\u001b[0m \u001b[0;34m=\u001b[0m \u001b[0m_process_traceback_frames\u001b[0m\u001b[0;34m(\u001b[0m\u001b[0me\u001b[0m\u001b[0;34m.\u001b[0m\u001b[0m__traceback__\u001b[0m\u001b[0;34m)\u001b[0m\u001b[0;34m\u001b[0m\u001b[0;34m\u001b[0m\u001b[0m\n\u001b[0;32m---> 67\u001b[0;31m       \u001b[0;32mraise\u001b[0m \u001b[0me\u001b[0m\u001b[0;34m.\u001b[0m\u001b[0mwith_traceback\u001b[0m\u001b[0;34m(\u001b[0m\u001b[0mfiltered_tb\u001b[0m\u001b[0;34m)\u001b[0m \u001b[0;32mfrom\u001b[0m \u001b[0;32mNone\u001b[0m\u001b[0;34m\u001b[0m\u001b[0;34m\u001b[0m\u001b[0m\n\u001b[0m\u001b[1;32m     68\u001b[0m     \u001b[0;32mfinally\u001b[0m\u001b[0;34m:\u001b[0m\u001b[0;34m\u001b[0m\u001b[0;34m\u001b[0m\u001b[0m\n\u001b[1;32m     69\u001b[0m       \u001b[0;32mdel\u001b[0m \u001b[0mfiltered_tb\u001b[0m\u001b[0;34m\u001b[0m\u001b[0;34m\u001b[0m\u001b[0m\n",
            "\u001b[0;32m/usr/local/lib/python3.8/dist-packages/keras/engine/data_adapter.py\u001b[0m in \u001b[0;36m_check_data_cardinality\u001b[0;34m(data)\u001b[0m\n\u001b[1;32m   1653\u001b[0m                            for i in tf.nest.flatten(single_data)))\n\u001b[1;32m   1654\u001b[0m     \u001b[0mmsg\u001b[0m \u001b[0;34m+=\u001b[0m \u001b[0;34m\"Make sure all arrays contain the same number of samples.\"\u001b[0m\u001b[0;34m\u001b[0m\u001b[0;34m\u001b[0m\u001b[0m\n\u001b[0;32m-> 1655\u001b[0;31m     \u001b[0;32mraise\u001b[0m \u001b[0mValueError\u001b[0m\u001b[0;34m(\u001b[0m\u001b[0mmsg\u001b[0m\u001b[0;34m)\u001b[0m\u001b[0;34m\u001b[0m\u001b[0;34m\u001b[0m\u001b[0m\n\u001b[0m\u001b[1;32m   1656\u001b[0m \u001b[0;34m\u001b[0m\u001b[0m\n\u001b[1;32m   1657\u001b[0m \u001b[0;34m\u001b[0m\u001b[0m\n",
            "\u001b[0;31mValueError\u001b[0m: Data cardinality is ambiguous:\n  x sizes: 925280\n  y sizes: 23132\nMake sure all arrays contain the same number of samples."
          ]
        }
      ]
    },
    {
      "cell_type": "markdown",
      "source": [
        "# sincnet"
      ],
      "metadata": {
        "id": "RQ2uffoHtd_H"
      }
    },
    {
      "cell_type": "code",
      "source": [
        "filepath = df['path'][f]\n",
        "filepath = filepath.split('/')\n",
        "filename = 'fluent_speech_commands_dataset'\n",
        "for i in filepath:\n",
        "    filename = os.path.join(filename,i)\n",
        "data,sr = librosa.load(filename)"
      ],
      "metadata": {
        "id": "7-KocxUax4P2"
      },
      "execution_count": 134,
      "outputs": []
    },
    {
      "cell_type": "code",
      "source": [
        "import librosa\n",
        "\n",
        "# Load the audio signal from a file\n",
        "# audio_signal, sampling_rate = librosa.load(\"example.wav\")\n",
        "audio_signal, sampling_rate = librosa.load(filename)\n",
        "\n",
        "# Convert the audio signal to a sequence of samples\n",
        "sampled = librosa.util.buf_to_float(audio_signal, n_bytes=2, dtype=np.float32)"
      ],
      "metadata": {
        "id": "e3OzsH75yV15"
      },
      "execution_count": 153,
      "outputs": []
    },
    {
      "cell_type": "code",
      "source": [
        "sampled.dtype"
      ],
      "metadata": {
        "colab": {
          "base_uri": "https://localhost:8080/"
        },
        "id": "-kuUxagmyei3",
        "outputId": "1a83c511-8b7b-4f7c-d074-a3c5bb9522f2"
      },
      "execution_count": 154,
      "outputs": [
        {
          "output_type": "execute_result",
          "data": {
            "text/plain": [
              "dtype('float32')"
            ]
          },
          "metadata": {},
          "execution_count": 154
        }
      ]
    },
    {
      "cell_type": "code",
      "source": [
        "sampled.shape"
      ],
      "metadata": {
        "colab": {
          "base_uri": "https://localhost:8080/"
        },
        "id": "Nl2tgkqwJIG_",
        "outputId": "884e8ebd-b00e-4375-9c79-f020fb2b1159"
      },
      "execution_count": 155,
      "outputs": [
        {
          "output_type": "execute_result",
          "data": {
            "text/plain": [
              "(90318,)"
            ]
          },
          "metadata": {},
          "execution_count": 155
        }
      ]
    },
    {
      "cell_type": "code",
      "source": [
        "!pip install sincnet-tensorflow"
      ],
      "metadata": {
        "id": "R4HGauht1aJh"
      },
      "execution_count": null,
      "outputs": []
    },
    {
      "cell_type": "code",
      "source": [
        "#function to load data\n",
        "def load_set(path):\n",
        "  #load dataframe\n",
        "  df = pd.read_csv(path)\n",
        "  df['intent'] = df.apply(concat, axis=1)\n",
        "  samples = []\n",
        "  labels = []\n",
        "  for index, row in df.iterrows():\n",
        "    filepath = row['path']\n",
        "    filepath = filepath.split('/')\n",
        "    filename = 'fluent_speech_commands_dataset'\n",
        "    for i in filepath:\n",
        "      filename = os.path.join(filename,i)\n",
        "    \n",
        "    #filename extracted\n",
        "    # Load the audio file\n",
        "    data,sr = librosa.load(filename)\n",
        "\n",
        "    # Convert the audio signal to a sequence of samples\n",
        "    sample = librosa.util.buf_to_float(audio_signal, n_bytes=2, dtype=np.float32)\n",
        "    \n",
        "\n",
        "    samples.append(sample)\n",
        "    labels.append(row['intent'])\n",
        "\n",
        "  return samples, labels"
      ],
      "metadata": {
        "id": "p5yhelhOywfJ"
      },
      "execution_count": 145,
      "outputs": []
    },
    {
      "cell_type": "code",
      "source": [
        "Xtrain, ytrain = load_set(\"fluent_speech_commands_dataset/data/train_data.csv\")\n"
      ],
      "metadata": {
        "id": "trEngNDaADg2"
      },
      "execution_count": 146,
      "outputs": []
    },
    {
      "cell_type": "code",
      "source": [
        "Xtrain[0].shape"
      ],
      "metadata": {
        "colab": {
          "base_uri": "https://localhost:8080/"
        },
        "id": "uTXPOeuJGYV7",
        "outputId": "b2d60262-b1e1-4f6b-e78e-824a11ab1798"
      },
      "execution_count": 156,
      "outputs": [
        {
          "output_type": "execute_result",
          "data": {
            "text/plain": [
              "(90318,)"
            ]
          },
          "metadata": {},
          "execution_count": 156
        }
      ]
    },
    {
      "cell_type": "code",
      "source": [
        "ytrain = np.array(ytrain)"
      ],
      "metadata": {
        "id": "ggAnfulAHbej"
      },
      "execution_count": 151,
      "outputs": []
    },
    {
      "cell_type": "code",
      "source": [
        "ytrain.shape"
      ],
      "metadata": {
        "colab": {
          "base_uri": "https://localhost:8080/"
        },
        "id": "chEUzNV0Ic-j",
        "outputId": "f6a0d7a0-6b7b-44d6-f055-e0c5b9bd2d1d"
      },
      "execution_count": 152,
      "outputs": [
        {
          "output_type": "execute_result",
          "data": {
            "text/plain": [
              "(23132,)"
            ]
          },
          "metadata": {},
          "execution_count": 152
        }
      ]
    },
    {
      "cell_type": "code",
      "source": [
        "    # Convert the labels to a numerical format using LabelEncoder\n",
        "\n",
        "    le = LabelEncoder()\n",
        "    labels = le.fit_transform(labels)"
      ],
      "metadata": {
        "id": "Yuwev47DANNg"
      },
      "execution_count": 137,
      "outputs": []
    },
    {
      "cell_type": "code",
      "source": [
        "from tensorflow.keras.layers import Dense, Conv1D\n",
        "from tensorflow.keras.layers import LeakyReLU, BatchNormalization, Flatten, MaxPooling1D, Input\n",
        "\n",
        "from sincnet_tensorflow import SincConv1D, LayerNorm\n",
        "\n",
        "\n",
        "out_dim = 50 #number of classes\n",
        "\n",
        "sinc_layer = SincConv1D(N_filt=64,\n",
        "                        Filt_dim=129,\n",
        "                        fs=16000,\n",
        "                        stride=16,\n",
        "                        padding=\"SAME\")\n",
        "\n",
        "\n",
        "inputs = Input((32000, 1))\n",
        "\n",
        "x = sinc_layer(inputs)\n",
        "x = LayerNorm()(x)\n",
        "\n",
        "x = LeakyReLU(alpha=0.2)(x)\n",
        "x = MaxPooling1D(pool_size=2)(x)\n",
        "\n",
        "\n",
        "x = Conv1D(64, 3, strides=1, padding='valid')(x)\n",
        "x = BatchNormalization(momentum=0.05)(x)\n",
        "x = LeakyReLU(alpha=0.2)(x)\n",
        "x = MaxPooling1D(pool_size=2)(x)\n",
        "\n",
        "x = Conv1D(64, 3, strides=1, padding='valid')(x)\n",
        "x = BatchNormalization(momentum=0.05)(x)\n",
        "x = LeakyReLU(alpha=0.2)(x)\n",
        "x = MaxPooling1D(pool_size=2)(x)\n",
        "\n",
        "x = Conv1D(128, 3, strides=1, padding='valid')(x)\n",
        "x = BatchNormalization(momentum=0.05)(x)\n",
        "x = LeakyReLU(alpha=0.2)(x)\n",
        "x = MaxPooling1D(pool_size=2)(x)\n",
        "\n",
        "x = Conv1D(128, 3, strides=1, padding='valid')(x)\n",
        "x = BatchNormalization(momentum=0.05)(x)\n",
        "x = LeakyReLU(alpha=0.2)(x)\n",
        "x = MaxPooling1D(pool_size=2)(x)\n",
        "\n",
        "x = Flatten()(x)\n",
        "\n",
        "x = Dense(256)(x)\n",
        "x = BatchNormalization(momentum=0.05, epsilon=1e-5)(x)\n",
        "x = LeakyReLU(alpha=0.2)(x)\n",
        "\n",
        "x = Dense(256)(x)\n",
        "x = BatchNormalization(momentum=0.05, epsilon=1e-5)(x)\n",
        "x = LeakyReLU(alpha=0.2)(x)\n",
        "\n",
        "prediction = Dense(out_dim, activation='softmax')(x)\n",
        "model = tf.keras.models.Model(inputs=inputs, outputs=prediction)\n",
        "\n",
        "model.summary()\n"
      ],
      "metadata": {
        "colab": {
          "base_uri": "https://localhost:8080/"
        },
        "id": "oS15EcNpti5E",
        "outputId": "42ffd3d2-7d44-4b71-9921-409818d11dc5"
      },
      "execution_count": 132,
      "outputs": [
        {
          "output_type": "stream",
          "name": "stdout",
          "text": [
            "Model: \"model\"\n",
            "_________________________________________________________________\n",
            " Layer (type)                Output Shape              Param #   \n",
            "=================================================================\n",
            " input_3 (InputLayer)        [(None, 32000, 1)]        0         \n",
            "                                                                 \n",
            " sinc_conv1d (SincConv1D)    (None, 2000, 64)          128       \n",
            "                                                                 \n",
            " layer_norm (LayerNorm)      (None, 2000, 64)          128       \n",
            "                                                                 \n",
            " leaky_re_lu (LeakyReLU)     (None, 2000, 64)          0         \n",
            "                                                                 \n",
            " max_pooling1d (MaxPooling1D  (None, 1000, 64)         0         \n",
            " )                                                               \n",
            "                                                                 \n",
            " conv1d (Conv1D)             (None, 998, 64)           12352     \n",
            "                                                                 \n",
            " batch_normalization (BatchN  (None, 998, 64)          256       \n",
            " ormalization)                                                   \n",
            "                                                                 \n",
            " leaky_re_lu_1 (LeakyReLU)   (None, 998, 64)           0         \n",
            "                                                                 \n",
            " max_pooling1d_1 (MaxPooling  (None, 499, 64)          0         \n",
            " 1D)                                                             \n",
            "                                                                 \n",
            " conv1d_1 (Conv1D)           (None, 497, 64)           12352     \n",
            "                                                                 \n",
            " batch_normalization_1 (Batc  (None, 497, 64)          256       \n",
            " hNormalization)                                                 \n",
            "                                                                 \n",
            " leaky_re_lu_2 (LeakyReLU)   (None, 497, 64)           0         \n",
            "                                                                 \n",
            " max_pooling1d_2 (MaxPooling  (None, 248, 64)          0         \n",
            " 1D)                                                             \n",
            "                                                                 \n",
            " conv1d_2 (Conv1D)           (None, 246, 128)          24704     \n",
            "                                                                 \n",
            " batch_normalization_2 (Batc  (None, 246, 128)         512       \n",
            " hNormalization)                                                 \n",
            "                                                                 \n",
            " leaky_re_lu_3 (LeakyReLU)   (None, 246, 128)          0         \n",
            "                                                                 \n",
            " max_pooling1d_3 (MaxPooling  (None, 123, 128)         0         \n",
            " 1D)                                                             \n",
            "                                                                 \n",
            " conv1d_3 (Conv1D)           (None, 121, 128)          49280     \n",
            "                                                                 \n",
            " batch_normalization_3 (Batc  (None, 121, 128)         512       \n",
            " hNormalization)                                                 \n",
            "                                                                 \n",
            " leaky_re_lu_4 (LeakyReLU)   (None, 121, 128)          0         \n",
            "                                                                 \n",
            " max_pooling1d_4 (MaxPooling  (None, 60, 128)          0         \n",
            " 1D)                                                             \n",
            "                                                                 \n",
            " flatten (Flatten)           (None, 7680)              0         \n",
            "                                                                 \n",
            " dense_5 (Dense)             (None, 256)               1966336   \n",
            "                                                                 \n",
            " batch_normalization_4 (Batc  (None, 256)              1024      \n",
            " hNormalization)                                                 \n",
            "                                                                 \n",
            " leaky_re_lu_5 (LeakyReLU)   (None, 256)               0         \n",
            "                                                                 \n",
            " dense_6 (Dense)             (None, 256)               65792     \n",
            "                                                                 \n",
            " batch_normalization_5 (Batc  (None, 256)              1024      \n",
            " hNormalization)                                                 \n",
            "                                                                 \n",
            " leaky_re_lu_6 (LeakyReLU)   (None, 256)               0         \n",
            "                                                                 \n",
            " dense_7 (Dense)             (None, 50)                12850     \n",
            "                                                                 \n",
            "=================================================================\n",
            "Total params: 2,147,506\n",
            "Trainable params: 2,145,714\n",
            "Non-trainable params: 1,792\n",
            "_________________________________________________________________\n"
          ]
        }
      ]
    },
    {
      "cell_type": "code",
      "source": [
        "# Load the raw audio signal and extract the frames\n",
        "signal, sr = librosa.load(filename)\n",
        "frames = librosa.util.frame(signal, frame_length=200, hop_length=10).T\n",
        "\n",
        "# Calculate the number of frames and features\n",
        "n_frames, n_features = frames.shape\n",
        "\n",
        "frames.shape"
      ],
      "metadata": {
        "colab": {
          "base_uri": "https://localhost:8080/"
        },
        "id": "7xjbBF5KzIKO",
        "outputId": "ded5fa3c-773e-459f-f1ba-e5bc2a032337"
      },
      "execution_count": 127,
      "outputs": [
        {
          "output_type": "execute_result",
          "data": {
            "text/plain": [
              "(4496, 200)"
            ]
          },
          "metadata": {},
          "execution_count": 127
        }
      ]
    }
  ]
}